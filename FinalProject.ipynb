{
  "nbformat": 4,
  "nbformat_minor": 0,
  "metadata": {
    "colab": {
      "name": "FinalProject.ipynb",
      "provenance": [],
      "collapsed_sections": [],
      "include_colab_link": true
    },
    "kernelspec": {
      "name": "python3",
      "display_name": "Python 3"
    },
    "language_info": {
      "name": "python"
    }
  },
  "cells": [
    {
      "cell_type": "markdown",
      "metadata": {
        "id": "view-in-github",
        "colab_type": "text"
      },
      "source": [
        "<a href=\"https://colab.research.google.com/github/IreneYIN7/CSC-Data_Mining-Machine_Learning_Projects/blob/master/FinalProject.ipynb\" target=\"_parent\"><img src=\"https://colab.research.google.com/assets/colab-badge.svg\" alt=\"Open In Colab\"/></a>"
      ]
    },
    {
      "cell_type": "markdown",
      "metadata": {
        "id": "Q-9nEttfAJJ_"
      },
      "source": [
        "# CSC-321: Data Mining and Machine Learning\n",
        "# Irene Yin\n",
        "## Final Project\n"
      ]
    },
    {
      "cell_type": "markdown",
      "metadata": {
        "id": "63xWi5doY1y1"
      },
      "source": [
        "### Abstract\n",
        "For this final project, I'm going to use the Bike Sharing Dataset. The Goal is to perdict the count of total rental bikes including both casual and registered users. I'm going to first observe the data, apply the data manipulation, and then start the feature selections, finally apply the models that are propoer for this task. I will also compare the ability of each model's predicting power in the later experiment. "
      ]
    },
    {
      "cell_type": "markdown",
      "metadata": {
        "id": "9Uux40Fab8Vo"
      },
      "source": [
        "### Introduction\n",
        "\n",
        "The purpose of this task is to predict the total number of sharing-bikes rented by the casual and registered users. A problem I'm going to address is that what would be the most imoprtant features that would influence the total number of the rental bike from people. This is a regression task that the outcomes we are going to predict are the continuous values. The attribute I'm trying to learn is: cnt --> count, which is the total number of rental bikes that both casual and registered users rented. "
      ]
    },
    {
      "cell_type": "markdown",
      "metadata": {
        "id": "HIhgJi5meJ2D"
      },
      "source": [
        "### Motivation/State of Art\n",
        "\n",
        "Along with the improvement of people's life quality, government and people are focuing more on the public construction and the public service. Bike sharing systems are new generation of traditional bike rentals where whole process from membership, rental and return back has become automatic. Through these systems, user is able to easily rent a bike from a particular position and return back at another position. By using the sharing-bike, it could help to improve the environment, traffic, as well as our health. \n",
        "\n",
        "Moreover, by seeing and interpreting these data, we would also have some sense of what is the features that would lead to people to use the bike or not. So that we could make some changes or improvements based on that. \n",
        "\n",
        "There are some people learned this dataset and we could find the specific learning process via github. The best result I could find is the learning done by Patrick Gebert. He learned the whole dataset and foudn that the hour and temperature features are the most influential and important features that would influence the outcome. \n"
      ]
    },
    {
      "cell_type": "markdown",
      "metadata": {
        "id": "63-rKYUXiC6g"
      },
      "source": [
        "### DATA\n",
        "\n",
        "The dataset contains 17389 instances and 16 attributes. The features are related to people's using demands towards the sharing bike. I get it from [UCI Repository](https://archive.ics.uci.edu/ml/datasets/Bike+Sharing+Dataset). \n",
        "The data IS in CSV format. There are 3 files: day.csv, hour.csv, and Readme.txt file. day.csv data is daily based data, whereas hour.csv is hourily based data which contains 17389 instances and 16 features. \n",
        "We will use hour.csv data this time since the daily based dataset only has 732 instances which are too small for us to come up with the meaningful conclusion.\n",
        "\n",
        "Based on the [description of the data](https://github.com/IreneYIN7/CSV_data/blob/main/README.md), we could know that all the data in this data set are neumerical data, except the date. \n",
        "\n",
        "Apart from that both hour.csv and day.csv have the following fields, except hr which is not available in day.csv:\n",
        "\n",
        "- instant: record index\n",
        "- dteday : date\n",
        "- season : season (1:winter, 2:spring, 3:summer, 4:fall)\n",
        "- yr : year (0: 2011, 1:2012)\n",
        "- mnth : month ( 1 to 12)\n",
        "- hr : hour (0 to 23)\n",
        "- holiday : weather day is holiday or not (extracted from [Web Link])\n",
        "- weekday : day of the week\n",
        "- workingday : if day is neither weekend nor holiday is 1, otherwise is 0.\n",
        "- weathersit :\n",
        "- 1: Clear, Few clouds, Partly cloudy, Partly cloudy\n",
        "- 2: Mist + Cloudy, Mist + Broken clouds, Mist + Few clouds, Mist\n",
        "- 3: Light Snow, Light Rain + Thunderstorm + Scattered clouds, Light Rain + Scattered clouds\n",
        "- 4: Heavy Rain + Ice Pallets + Thunderstorm + Mist, Snow + Fog\n",
        "- temp : Normalized temperature in Celsius. The values are derived via (t-t_min)/(t_max-t_min), t_min=-8, t_max=+39 (only in hourly scale)\n",
        "- atemp: Normalized feeling temperature in Celsius. The values are derived via (t-t_min)/(t_max-t_min), t_min=-16, t_max=+50 (only in hourly scale)\n",
        "- hum: Normalized humidity. The values are divided to 100 (max)\n",
        "- windspeed: Normalized wind speed. The values are divided to 67 (max)\n",
        "- casual: count of casual users\n",
        "- registered: count of registered users\n",
        "- cnt: count of total rental bikes including both casual and registered\n",
        "\n",
        "There are no missing value in this data. \n"
      ]
    },
    {
      "cell_type": "markdown",
      "metadata": {
        "id": "z5oiZL3wkulk"
      },
      "source": [
        "\n",
        "### Experiment"
      ]
    },
    {
      "cell_type": "markdown",
      "metadata": {
        "id": "gI82Fz2SIHiK"
      },
      "source": [
        "\n",
        "#### Part 1: Data Manipulation\n",
        "\n",
        "We will first check and observe the data. We need to make the whole dataset organized and doable for the later tasks."
      ]
    },
    {
      "cell_type": "code",
      "metadata": {
        "colab": {
          "base_uri": "https://localhost:8080/",
          "height": 337
        },
        "id": "qfGBYslm3Qem",
        "outputId": "5555ebce-9296-4974-abbd-6f741104c260"
      },
      "source": [
        "import pandas as pd\n",
        "import numpy as np\n",
        "import seaborn as sns\n",
        "import matplotlib.pyplot as plt\n",
        "# See the day.csv data\n",
        "# Assign column names\n",
        "labels = ['dteday','season','yr','mnth','hr','holiday','weekday','workingday','weathersit','temp','atemp','hum','windspeed','casual',\n",
        "          'registered','cnt']\n",
        "missing_values = [\"?\"]\n",
        "\n",
        "# Load the training data\n",
        "# I've added column headings\n",
        "# I've added the missing value string\n",
        "# and in order to make that work, I've skipped the initial space\n",
        "\n",
        "bike_data = pd.read_csv(\"https://raw.githubusercontent.com/IreneYIN7/CSV_data/main/hour.csv\",names=labels,na_values = missing_values,skipinitialspace=True)\n",
        "\n",
        "pre_rows,pre_cols = bike_data.shape\n",
        "print(\"This is the sharing-bike training data set. It has\", pre_rows, \"instances, and it has\", pre_cols, \"features.\\n\\n\")\n",
        "\n",
        "# Show the head of the data\n",
        "bike_data.head()"
      ],
      "execution_count": null,
      "outputs": [
        {
          "output_type": "stream",
          "text": [
            "This is the sharing-bike training data set. It has 17380 instances, and it has 16 features.\n",
            "\n",
            "\n"
          ],
          "name": "stdout"
        },
        {
          "output_type": "execute_result",
          "data": {
            "text/html": [
              "<div>\n",
              "<style scoped>\n",
              "    .dataframe tbody tr th:only-of-type {\n",
              "        vertical-align: middle;\n",
              "    }\n",
              "\n",
              "    .dataframe tbody tr th {\n",
              "        vertical-align: top;\n",
              "    }\n",
              "\n",
              "    .dataframe thead th {\n",
              "        text-align: right;\n",
              "    }\n",
              "</style>\n",
              "<table border=\"1\" class=\"dataframe\">\n",
              "  <thead>\n",
              "    <tr style=\"text-align: right;\">\n",
              "      <th></th>\n",
              "      <th>dteday</th>\n",
              "      <th>season</th>\n",
              "      <th>yr</th>\n",
              "      <th>mnth</th>\n",
              "      <th>hr</th>\n",
              "      <th>holiday</th>\n",
              "      <th>weekday</th>\n",
              "      <th>workingday</th>\n",
              "      <th>weathersit</th>\n",
              "      <th>temp</th>\n",
              "      <th>atemp</th>\n",
              "      <th>hum</th>\n",
              "      <th>windspeed</th>\n",
              "      <th>casual</th>\n",
              "      <th>registered</th>\n",
              "      <th>cnt</th>\n",
              "    </tr>\n",
              "  </thead>\n",
              "  <tbody>\n",
              "    <tr>\n",
              "      <th>instant</th>\n",
              "      <td>dteday</td>\n",
              "      <td>season</td>\n",
              "      <td>yr</td>\n",
              "      <td>mnth</td>\n",
              "      <td>hr</td>\n",
              "      <td>holiday</td>\n",
              "      <td>weekday</td>\n",
              "      <td>workingday</td>\n",
              "      <td>weathersit</td>\n",
              "      <td>temp</td>\n",
              "      <td>atemp</td>\n",
              "      <td>hum</td>\n",
              "      <td>windspeed</td>\n",
              "      <td>casual</td>\n",
              "      <td>registered</td>\n",
              "      <td>cnt</td>\n",
              "    </tr>\n",
              "    <tr>\n",
              "      <th>1</th>\n",
              "      <td>2011-01-01</td>\n",
              "      <td>1</td>\n",
              "      <td>0</td>\n",
              "      <td>1</td>\n",
              "      <td>0</td>\n",
              "      <td>0</td>\n",
              "      <td>6</td>\n",
              "      <td>0</td>\n",
              "      <td>1</td>\n",
              "      <td>0.24</td>\n",
              "      <td>0.2879</td>\n",
              "      <td>0.81</td>\n",
              "      <td>0</td>\n",
              "      <td>3</td>\n",
              "      <td>13</td>\n",
              "      <td>16</td>\n",
              "    </tr>\n",
              "    <tr>\n",
              "      <th>2</th>\n",
              "      <td>2011-01-01</td>\n",
              "      <td>1</td>\n",
              "      <td>0</td>\n",
              "      <td>1</td>\n",
              "      <td>1</td>\n",
              "      <td>0</td>\n",
              "      <td>6</td>\n",
              "      <td>0</td>\n",
              "      <td>1</td>\n",
              "      <td>0.22</td>\n",
              "      <td>0.2727</td>\n",
              "      <td>0.8</td>\n",
              "      <td>0</td>\n",
              "      <td>8</td>\n",
              "      <td>32</td>\n",
              "      <td>40</td>\n",
              "    </tr>\n",
              "    <tr>\n",
              "      <th>3</th>\n",
              "      <td>2011-01-01</td>\n",
              "      <td>1</td>\n",
              "      <td>0</td>\n",
              "      <td>1</td>\n",
              "      <td>2</td>\n",
              "      <td>0</td>\n",
              "      <td>6</td>\n",
              "      <td>0</td>\n",
              "      <td>1</td>\n",
              "      <td>0.22</td>\n",
              "      <td>0.2727</td>\n",
              "      <td>0.8</td>\n",
              "      <td>0</td>\n",
              "      <td>5</td>\n",
              "      <td>27</td>\n",
              "      <td>32</td>\n",
              "    </tr>\n",
              "    <tr>\n",
              "      <th>4</th>\n",
              "      <td>2011-01-01</td>\n",
              "      <td>1</td>\n",
              "      <td>0</td>\n",
              "      <td>1</td>\n",
              "      <td>3</td>\n",
              "      <td>0</td>\n",
              "      <td>6</td>\n",
              "      <td>0</td>\n",
              "      <td>1</td>\n",
              "      <td>0.24</td>\n",
              "      <td>0.2879</td>\n",
              "      <td>0.75</td>\n",
              "      <td>0</td>\n",
              "      <td>3</td>\n",
              "      <td>10</td>\n",
              "      <td>13</td>\n",
              "    </tr>\n",
              "  </tbody>\n",
              "</table>\n",
              "</div>"
            ],
            "text/plain": [
              "             dteday  season  yr  mnth  ...  windspeed  casual  registered  cnt\n",
              "instant      dteday  season  yr  mnth  ...  windspeed  casual  registered  cnt\n",
              "1        2011-01-01       1   0     1  ...          0       3          13   16\n",
              "2        2011-01-01       1   0     1  ...          0       8          32   40\n",
              "3        2011-01-01       1   0     1  ...          0       5          27   32\n",
              "4        2011-01-01       1   0     1  ...          0       3          10   13\n",
              "\n",
              "[5 rows x 16 columns]"
            ]
          },
          "metadata": {
            "tags": []
          },
          "execution_count": 25
        }
      ]
    },
    {
      "cell_type": "code",
      "metadata": {
        "id": "5aoq8IH1DiXZ"
      },
      "source": [
        "# boxplot for the data\n",
        "bike_data.drop('instant',inplace=True)\n",
        "#bike_data[:24*10].plot(x='dteday', y='cnt')"
      ],
      "execution_count": null,
      "outputs": []
    },
    {
      "cell_type": "markdown",
      "metadata": {
        "id": "lZnpB-_LIPCF"
      },
      "source": [
        "#### part 2: Feature Selection"
      ]
    },
    {
      "cell_type": "markdown",
      "metadata": {
        "id": "2TDmi8mMBgj3"
      },
      "source": [
        "Now, We need to drop the repeated features and meaningless features in order to make the model more efficient. \n",
        "\n",
        "We could see that the first row is the feature names row. So, we will first drop the first row.\n",
        "\n",
        "\n",
        "After observing the data, we could see that the season, and seathersit features can be represented by the temp, atemp （feeling temp）, hum, and windspeed features. Also, atemp features is strongly depend on the temp feature. Other than that, the month can be represented by the holiday. Hence, we could drop the season, mnth, atemp and weathersit features.  \n",
        "\n",
        "Also, the weekday and holiday can also be represented by the workingday features. The workingday will be 1 if it's neither the weekday (0-4) nor holiday, otherwise, it will 0 (means it's either weekendday (5-6) or holidays). Hence, we could also drop holiday and weekday.\n",
        "\n",
        "As for the dteday, we could also drop it since it could be represented by the yr. And it's meaningless to keep track on the specific day. After dropping the specific days, part our tasks would be if the different parts of the day would have influence towards the output (the usage for the sharing-bike). In this dataset, we have 365*2 days for us to learn.\n",
        "\n",
        "Last, the casual feature is the the count of the casual users who rent bike and the registered feature is the count of the registered users who rent bike. The cnt feature is the combination of the casual users and the registered users. In this case, we would focus on the total count of the sharing-bike. Thus, the count and registered features can also be droped since the cnt feature represents both of them. \n"
      ]
    },
    {
      "cell_type": "code",
      "metadata": {
        "colab": {
          "base_uri": "https://localhost:8080/",
          "height": 251
        },
        "id": "I-Xvc7RSQiL5",
        "outputId": "af9964e1-5432-4281-96f9-0b6f654fc1fc"
      },
      "source": [
        "# drop features that are repetitions.\n",
        "\n",
        "# drop the first feature-name row\n",
        "\n",
        "\n",
        "bike_data.drop('season',axis=1,inplace=True)\n",
        "bike_data.drop('mnth',axis=1,inplace=True)\n",
        "bike_data.drop('weathersit',axis=1,inplace=True)\n",
        "bike_data.drop('weekday',axis=1,inplace=True)\n",
        "bike_data.drop('dteday',axis=1,inplace=True)\n",
        "bike_data.drop('casual',axis=1,inplace=True)\n",
        "bike_data.drop('registered',axis=1,inplace=True)\n",
        "bike_data.drop('atemp',axis=1,inplace=True)\n",
        "bike_data.drop('holiday',axis=1,inplace=True)\n",
        "\n",
        "\n",
        "pre_rows,pre_cols = bike_data.shape\n",
        "print(\"This is the sharing-bike training data set. It has\", pre_rows, \"instances, and it has\", pre_cols, \"features.\\n\\n\")\n",
        "\n",
        "bike_data.head()\n"
      ],
      "execution_count": null,
      "outputs": [
        {
          "output_type": "stream",
          "text": [
            "This is the sharing-bike training data set. It has 17379 instances, and it has 7 features.\n",
            "\n",
            "\n"
          ],
          "name": "stdout"
        },
        {
          "output_type": "execute_result",
          "data": {
            "text/html": [
              "<div>\n",
              "<style scoped>\n",
              "    .dataframe tbody tr th:only-of-type {\n",
              "        vertical-align: middle;\n",
              "    }\n",
              "\n",
              "    .dataframe tbody tr th {\n",
              "        vertical-align: top;\n",
              "    }\n",
              "\n",
              "    .dataframe thead th {\n",
              "        text-align: right;\n",
              "    }\n",
              "</style>\n",
              "<table border=\"1\" class=\"dataframe\">\n",
              "  <thead>\n",
              "    <tr style=\"text-align: right;\">\n",
              "      <th></th>\n",
              "      <th>yr</th>\n",
              "      <th>hr</th>\n",
              "      <th>workingday</th>\n",
              "      <th>temp</th>\n",
              "      <th>hum</th>\n",
              "      <th>windspeed</th>\n",
              "      <th>cnt</th>\n",
              "    </tr>\n",
              "  </thead>\n",
              "  <tbody>\n",
              "    <tr>\n",
              "      <th>1</th>\n",
              "      <td>0</td>\n",
              "      <td>0</td>\n",
              "      <td>0</td>\n",
              "      <td>0.24</td>\n",
              "      <td>0.81</td>\n",
              "      <td>0</td>\n",
              "      <td>16</td>\n",
              "    </tr>\n",
              "    <tr>\n",
              "      <th>2</th>\n",
              "      <td>0</td>\n",
              "      <td>1</td>\n",
              "      <td>0</td>\n",
              "      <td>0.22</td>\n",
              "      <td>0.8</td>\n",
              "      <td>0</td>\n",
              "      <td>40</td>\n",
              "    </tr>\n",
              "    <tr>\n",
              "      <th>3</th>\n",
              "      <td>0</td>\n",
              "      <td>2</td>\n",
              "      <td>0</td>\n",
              "      <td>0.22</td>\n",
              "      <td>0.8</td>\n",
              "      <td>0</td>\n",
              "      <td>32</td>\n",
              "    </tr>\n",
              "    <tr>\n",
              "      <th>4</th>\n",
              "      <td>0</td>\n",
              "      <td>3</td>\n",
              "      <td>0</td>\n",
              "      <td>0.24</td>\n",
              "      <td>0.75</td>\n",
              "      <td>0</td>\n",
              "      <td>13</td>\n",
              "    </tr>\n",
              "    <tr>\n",
              "      <th>5</th>\n",
              "      <td>0</td>\n",
              "      <td>4</td>\n",
              "      <td>0</td>\n",
              "      <td>0.24</td>\n",
              "      <td>0.75</td>\n",
              "      <td>0</td>\n",
              "      <td>1</td>\n",
              "    </tr>\n",
              "  </tbody>\n",
              "</table>\n",
              "</div>"
            ],
            "text/plain": [
              "  yr hr workingday  temp   hum windspeed cnt\n",
              "1  0  0          0  0.24  0.81         0  16\n",
              "2  0  1          0  0.22   0.8         0  40\n",
              "3  0  2          0  0.22   0.8         0  32\n",
              "4  0  3          0  0.24  0.75         0  13\n",
              "5  0  4          0  0.24  0.75         0   1"
            ]
          },
          "metadata": {
            "tags": []
          },
          "execution_count": 27
        }
      ]
    },
    {
      "cell_type": "markdown",
      "metadata": {
        "id": "GlhwqlACNd6I"
      },
      "source": [
        "\n",
        "Apart from that, we could notict that the hr feature is encoded to be from 0-23. This are going to end up with comparisons we probably don't mean. Hence, we need to use one-hot encoding to first make it into 24 different features. Then we need to categorize the hr feature into parts of the day: early morning (5-9), late morning(10-12), early afternoon (13-15), late afternoon(16-17), evening (18-20), and Night (21-4).\n",
        "\n",
        "\n",
        "Then, we need to encoding these category values into numerical values by using one-hot encoding, because our algorithms need numeric data. "
      ]
    },
    {
      "cell_type": "code",
      "metadata": {
        "colab": {
          "base_uri": "https://localhost:8080/",
          "height": 411
        },
        "id": "wDIT_KfMQCOT",
        "outputId": "93ca6b82-9cab-4f8e-bfb8-43471bf16818"
      },
      "source": [
        "# One-hot encoding the hr feature.\n",
        "bike_data_copy = bike_data.copy()\n",
        "bike_data_hr = bike_data_copy['hr'].copy()\n",
        "bike_data_copy.drop(['hr'],axis = 1, inplace = True)\n",
        "\n",
        "bike_data_hr = pd.get_dummies(bike_data_hr, prefix_sep='_')\n",
        "\n",
        "\n",
        "final_rows,final_cols = bike_data_hr.shape\n",
        "print(\"This is the hour feature training data set after one-hot encoding.\\nIt has\",final_rows, \"instances, and it has\", final_cols, \"features\\n\\n\")\n",
        "\n",
        "# Then, we need to group the hours together into 6 categories\n",
        "bike_data_hr['early_morni'] = bike_data_hr['5'] + bike_data_hr['6'] + bike_data_hr['7'] + bike_data_hr['8'] +bike_data_hr['9']\n",
        "bike_data_hr.drop(['5','6','7','8','9'],axis=1,inplace=True)\n",
        "\n",
        "bike_data_hr['late_morni'] = bike_data_hr['10'] + bike_data_hr['11'] + bike_data_hr['12']\n",
        "bike_data_hr.drop(['10','11','12'],axis=1,inplace=True)\n",
        "\n",
        "bike_data_hr['early_aftern'] = bike_data_hr['13'] + bike_data_hr['14'] + bike_data_hr['15']\n",
        "bike_data_hr.drop(['13','14','15'],axis=1,inplace=True)\n",
        "\n",
        "bike_data_hr['late_aftern'] = bike_data_hr['16'] + bike_data_hr['17']\n",
        "bike_data_hr.drop(['16','17'],axis=1,inplace=True)\n",
        "\n",
        "bike_data_hr['evening'] = bike_data_hr['18'] + bike_data_hr['19']+ bike_data_hr['20']\n",
        "bike_data_hr.drop(['18','19','20'],axis=1,inplace=True)\n",
        "\n",
        "bike_data_hr['night'] = bike_data_hr['21'] + bike_data_hr['22']+ bike_data_hr['23']+ bike_data_hr['0']+ bike_data_hr['1']+ bike_data_hr['2']+ bike_data_hr['3']+ bike_data_hr['4']\n",
        "bike_data_hr.drop(['21','22','23','0','1','2','3','4'],axis=1,inplace=True)\n",
        "\n",
        "\n",
        "\n",
        "final_rows,final_cols = bike_data_hr.shape\n",
        "print(\"This is the hour feature training data set after grouping.\\nIt has\",final_rows, \"instances, and it has\", final_cols, \"features\\n\\n\")\n",
        "bike_data_hr.head()\n",
        "\n",
        "# Add hrs back to the dataset, and rearrange the data with proper order.\n",
        "bike_data_cnt = bike_data_copy['cnt'].copy()\n",
        "bike_data_copy.drop(['cnt'],axis = 1, inplace = True)\n",
        "\n",
        "bike_data_ear_mor = bike_data_hr['early_morni'].copy()\n",
        "bike_data_late_mor = bike_data_hr['late_morni'].copy()\n",
        "bike_early_aftern = bike_data_hr['early_aftern'].copy()\n",
        "bike_late_aftern = bike_data_hr['late_aftern'].copy()\n",
        "bike_evening = bike_data_hr['evening'].copy()\n",
        "bike_night = bike_data_hr['night'].copy()\n",
        "\n",
        "bike_data_copy['early_morni'] = bike_data_ear_mor\n",
        "bike_data_copy['late_morni'] = bike_data_late_mor\n",
        "bike_data_copy['early_aftern'] = bike_early_aftern\n",
        "bike_data_copy['late_aftern'] = bike_late_aftern\n",
        "bike_data_copy['evening'] = bike_evening\n",
        "bike_data_copy['night'] = bike_night\n",
        "bike_data_copy['cnt'] = bike_data_cnt\n",
        "\n",
        "\n",
        "bike_data_copy.head()\n",
        "\n",
        "final_rows,final_cols = bike_data_copy.shape\n",
        "print(\"This is the Bike data set after data manipulation.\\nIt has\",final_rows, \"instances, and it has\", final_cols, \"features\\n\\n\")\n",
        "bike_data_copy.head()\n",
        "\n",
        "\n"
      ],
      "execution_count": null,
      "outputs": [
        {
          "output_type": "stream",
          "text": [
            "This is the hour feature training data set after one-hot encoding.\n",
            "It has 17379 instances, and it has 24 features\n",
            "\n",
            "\n",
            "This is the hour feature training data set after grouping.\n",
            "It has 17379 instances, and it has 6 features\n",
            "\n",
            "\n",
            "This is the Bike data set after data manipulation.\n",
            "It has 17379 instances, and it has 12 features\n",
            "\n",
            "\n"
          ],
          "name": "stdout"
        },
        {
          "output_type": "execute_result",
          "data": {
            "text/html": [
              "<div>\n",
              "<style scoped>\n",
              "    .dataframe tbody tr th:only-of-type {\n",
              "        vertical-align: middle;\n",
              "    }\n",
              "\n",
              "    .dataframe tbody tr th {\n",
              "        vertical-align: top;\n",
              "    }\n",
              "\n",
              "    .dataframe thead th {\n",
              "        text-align: right;\n",
              "    }\n",
              "</style>\n",
              "<table border=\"1\" class=\"dataframe\">\n",
              "  <thead>\n",
              "    <tr style=\"text-align: right;\">\n",
              "      <th></th>\n",
              "      <th>yr</th>\n",
              "      <th>workingday</th>\n",
              "      <th>temp</th>\n",
              "      <th>hum</th>\n",
              "      <th>windspeed</th>\n",
              "      <th>early_morni</th>\n",
              "      <th>late_morni</th>\n",
              "      <th>early_aftern</th>\n",
              "      <th>late_aftern</th>\n",
              "      <th>evening</th>\n",
              "      <th>night</th>\n",
              "      <th>cnt</th>\n",
              "    </tr>\n",
              "  </thead>\n",
              "  <tbody>\n",
              "    <tr>\n",
              "      <th>1</th>\n",
              "      <td>0</td>\n",
              "      <td>0</td>\n",
              "      <td>0.24</td>\n",
              "      <td>0.81</td>\n",
              "      <td>0</td>\n",
              "      <td>0</td>\n",
              "      <td>0</td>\n",
              "      <td>0</td>\n",
              "      <td>0</td>\n",
              "      <td>0</td>\n",
              "      <td>1</td>\n",
              "      <td>16</td>\n",
              "    </tr>\n",
              "    <tr>\n",
              "      <th>2</th>\n",
              "      <td>0</td>\n",
              "      <td>0</td>\n",
              "      <td>0.22</td>\n",
              "      <td>0.8</td>\n",
              "      <td>0</td>\n",
              "      <td>0</td>\n",
              "      <td>0</td>\n",
              "      <td>0</td>\n",
              "      <td>0</td>\n",
              "      <td>0</td>\n",
              "      <td>1</td>\n",
              "      <td>40</td>\n",
              "    </tr>\n",
              "    <tr>\n",
              "      <th>3</th>\n",
              "      <td>0</td>\n",
              "      <td>0</td>\n",
              "      <td>0.22</td>\n",
              "      <td>0.8</td>\n",
              "      <td>0</td>\n",
              "      <td>0</td>\n",
              "      <td>0</td>\n",
              "      <td>0</td>\n",
              "      <td>0</td>\n",
              "      <td>0</td>\n",
              "      <td>1</td>\n",
              "      <td>32</td>\n",
              "    </tr>\n",
              "    <tr>\n",
              "      <th>4</th>\n",
              "      <td>0</td>\n",
              "      <td>0</td>\n",
              "      <td>0.24</td>\n",
              "      <td>0.75</td>\n",
              "      <td>0</td>\n",
              "      <td>0</td>\n",
              "      <td>0</td>\n",
              "      <td>0</td>\n",
              "      <td>0</td>\n",
              "      <td>0</td>\n",
              "      <td>1</td>\n",
              "      <td>13</td>\n",
              "    </tr>\n",
              "    <tr>\n",
              "      <th>5</th>\n",
              "      <td>0</td>\n",
              "      <td>0</td>\n",
              "      <td>0.24</td>\n",
              "      <td>0.75</td>\n",
              "      <td>0</td>\n",
              "      <td>0</td>\n",
              "      <td>0</td>\n",
              "      <td>0</td>\n",
              "      <td>0</td>\n",
              "      <td>0</td>\n",
              "      <td>1</td>\n",
              "      <td>1</td>\n",
              "    </tr>\n",
              "  </tbody>\n",
              "</table>\n",
              "</div>"
            ],
            "text/plain": [
              "  yr workingday  temp   hum  ... late_aftern  evening  night  cnt\n",
              "1  0          0  0.24  0.81  ...           0        0      1   16\n",
              "2  0          0  0.22   0.8  ...           0        0      1   40\n",
              "3  0          0  0.22   0.8  ...           0        0      1   32\n",
              "4  0          0  0.24  0.75  ...           0        0      1   13\n",
              "5  0          0  0.24  0.75  ...           0        0      1    1\n",
              "\n",
              "[5 rows x 12 columns]"
            ]
          },
          "metadata": {
            "tags": []
          },
          "execution_count": 28
        }
      ]
    },
    {
      "cell_type": "code",
      "metadata": {
        "colab": {
          "base_uri": "https://localhost:8080/"
        },
        "id": "ojw9L8tqhQfN",
        "outputId": "00849c1f-6658-41c3-a3da-0e368092cbae"
      },
      "source": [
        "\n",
        "#bike_data_copy.info()\n",
        "bike_data_copy.describe(include='all')\n",
        "bike_data_copy['yr'] = bike_data_copy.yr.astype('int64')\n",
        "bike_data_copy['workingday'] = bike_data_copy.workingday.astype('int64')\n",
        "bike_data_copy['temp'] = bike_data_copy.temp.astype('float')\n",
        "bike_data_copy['hum'] = bike_data_copy.hum.astype('float')\n",
        "bike_data_copy['windspeed'] = bike_data_copy.windspeed.astype('float')\n",
        "bike_data_copy['cnt'] = bike_data_copy.cnt.astype('int')\n",
        "bike_data_copy.info()"
      ],
      "execution_count": null,
      "outputs": [
        {
          "output_type": "stream",
          "text": [
            "<class 'pandas.core.frame.DataFrame'>\n",
            "Index: 17379 entries, 1 to 17379\n",
            "Data columns (total 12 columns):\n",
            " #   Column        Non-Null Count  Dtype  \n",
            "---  ------        --------------  -----  \n",
            " 0   yr            17379 non-null  int64  \n",
            " 1   workingday    17379 non-null  int64  \n",
            " 2   temp          17379 non-null  float64\n",
            " 3   hum           17379 non-null  float64\n",
            " 4   windspeed     17379 non-null  float64\n",
            " 5   early_morni   17379 non-null  uint8  \n",
            " 6   late_morni    17379 non-null  uint8  \n",
            " 7   early_aftern  17379 non-null  uint8  \n",
            " 8   late_aftern   17379 non-null  uint8  \n",
            " 9   evening       17379 non-null  uint8  \n",
            " 10  night         17379 non-null  uint8  \n",
            " 11  cnt           17379 non-null  int64  \n",
            "dtypes: float64(3), int64(3), uint8(6)\n",
            "memory usage: 1.0+ MB\n"
          ],
          "name": "stdout"
        }
      ]
    },
    {
      "cell_type": "code",
      "metadata": {
        "colab": {
          "base_uri": "https://localhost:8080/"
        },
        "id": "6tV5YRYbiRwC",
        "outputId": "c3b127a4-a8ad-4ac2-d170-1171216b83c8"
      },
      "source": [
        "corrMatrix = bike_data_copy.corr()\n",
        "print(corrMatrix)"
      ],
      "execution_count": null,
      "outputs": [
        {
          "output_type": "stream",
          "text": [
            "                    yr  workingday      temp  ...   evening     night       cnt\n",
            "yr            1.000000   -0.002196  0.040913  ... -0.000900  0.003864  0.250495\n",
            "workingday   -0.002196    1.000000  0.055390  ...  0.001096 -0.002593  0.030284\n",
            "temp          0.040913    0.055390  1.000000  ...  0.054470 -0.108649  0.404772\n",
            "hum          -0.083546    0.015688 -0.069881  ... -0.112525  0.236742 -0.322911\n",
            "windspeed    -0.008740   -0.011830 -0.023125  ...  0.061732 -0.156346  0.093234\n",
            "early_morni  -0.000220    0.001675 -0.130774  ... -0.194565 -0.360542 -0.033129\n",
            "late_morni   -0.001593   -0.000260  0.047578  ... -0.143656 -0.266205  0.046513\n",
            "early_aftern -0.001423    0.000332  0.129698  ... -0.143844 -0.266554  0.123733\n",
            "late_aftern  -0.001551    0.000547  0.098740  ... -0.114814 -0.212758  0.329345\n",
            "evening      -0.000900    0.001096  0.054470  ...  1.000000 -0.266344  0.274979\n",
            "night         0.003864   -0.002593 -0.108649  ... -0.266344  1.000000 -0.479409\n",
            "cnt           0.250495    0.030284  0.404772  ...  0.274979 -0.479409  1.000000\n",
            "\n",
            "[12 rows x 12 columns]\n"
          ],
          "name": "stdout"
        }
      ]
    },
    {
      "cell_type": "markdown",
      "metadata": {
        "id": "KY4yuV7CH8y1"
      },
      "source": [
        "#### Part 3: Regression Task\n",
        "\n",
        "In this project, we will use 10-fold cross validation to split the data and which could let us better evaluate. Because this is a regression task, we will use the models that are suitable for the regression task. (particularly, with regressors). We will use Linear Regression, KNN(regressor) and naive bayes regression(BayesianRidge). Apart from that, we will also use the following methods: \n",
        "\n",
        "[support vector machine for regression](https://scikit-learn.org/stable/modules/svm.html#regression).\n",
        "\n",
        "\n",
        "[Decision Tree for regression](https://scikit-learn.org/stable/auto_examples/tree/plot_tree_regression.html).\n",
        "\n",
        "[AdaBoost for Regression](https://scikit-learn.org/stable/modules/generated/sklearn.ensemble.AdaBoostRegressor.html)."
      ]
    },
    {
      "cell_type": "code",
      "metadata": {
        "id": "pzx4JpfTTjRb"
      },
      "source": [
        "import time\n",
        "from scipy import stats\n",
        "import math\n",
        "import numpy as np\n",
        "\n",
        "# import models\n",
        "from sklearn import model_selection\n",
        "from sklearn.linear_model import LinearRegression\n",
        "from sklearn.tree import DecisionTreeRegressor\n",
        "from sklearn.neighbors import KNeighborsRegressor\n",
        "from sklearn.linear_model import BayesianRidge\n",
        "from sklearn.svm import SVR\n",
        "from sklearn.ensemble import RandomForestRegressor\n",
        "from sklearn.ensemble import AdaBoostRegressor\n",
        "from sklearn.dummy import DummyRegressor\n",
        "\n",
        "# scoring metrics\n",
        "from sklearn.metrics import mean_squared_error\n",
        "from sklearn.feature_selection import RFE\n",
        "from sklearn.model_selection import cross_val_score\n",
        "from sklearn.model_selection import StratifiedKFold"
      ],
      "execution_count": null,
      "outputs": []
    },
    {
      "cell_type": "markdown",
      "metadata": {
        "id": "wwGmGd0wo9cI"
      },
      "source": [
        "As we could see, after the manipulation, all the features are in the normalized form. Temp, atemp, hum, and windspeed are all in the normalized form.\n",
        "\n",
        "We will use 10-fold cross validation to slice up the data, and call each model on the data.\n",
        "The models I will use for this regression task are:\n",
        "\n",
        "- zeroR\n",
        "- Linear regression\n",
        "- knn Regressor (k=5)\n",
        "- knn Regressor (k=7)\n",
        "- decision trees Regressor\n",
        "- AdaBoost\n",
        "- BayesianRidge\n",
        "- Random Forest"
      ]
    },
    {
      "cell_type": "markdown",
      "metadata": {
        "id": "OV_xiywx0-Wp"
      },
      "source": [
        "##### round 1: 11 features"
      ]
    },
    {
      "cell_type": "code",
      "metadata": {
        "colab": {
          "base_uri": "https://localhost:8080/",
          "height": 735
        },
        "id": "Y8qxs2RJouKz",
        "outputId": "cb9924db-72c9-4e7f-dfc2-8bea19bd6806"
      },
      "source": [
        "import warnings\n",
        "warnings.filterwarnings(\"ignore\",category=UserWarning)\n",
        "\n",
        "array = bike_data_copy.values\n",
        "X = array[:,0:-1]\n",
        "y = array[:,-1]\n",
        "\n",
        "rows,cols = X.shape\n",
        "print(\"This is the sharing-bike training data set. It has\", rows, \"instances, and it has\", cols, \"features.\\n\")\n",
        "\n",
        "# prepare configuration for cross validation test harness\n",
        "seed = 1\n",
        "\n",
        "models = [\n",
        "          DummyRegressor(),\n",
        "          LinearRegression(),\n",
        "          KNeighborsRegressor(),\n",
        "          KNeighborsRegressor(n_neighbors=7),\n",
        "          DecisionTreeRegressor(),\n",
        "          AdaBoostRegressor(n_estimators=100),\n",
        "          BayesianRidge(),\n",
        "          RandomForestRegressor(random_state=0, n_estimators=300),\n",
        "          \n",
        "]\n",
        "name = ['zr','LR', 'KN5', 'KN7', 'DT','ADA','Bayes','RF']\n",
        "\n",
        "# train and test the model\n",
        "\n",
        "model_result = []\n",
        "regressors = []\n",
        "scorings = 'neg_mean_squared_error'\n",
        "msg1 = []\n",
        "for index in range(len(models)):\n",
        "  kfold = model_selection.StratifiedKFold(n_splits=10)\n",
        "  cv_results = model_selection.cross_val_score(models[index],X,y,cv=kfold,scoring=scorings)\n",
        "  cv_result = [abs(j)**0.5 for j in cv_results]\n",
        "  model_result.append(cv_result)\n",
        "  regressors.append(name[index])\n",
        "  msg = name[index]+ \": {:.2f} ({:.2f})\".format(np.mean(cv_result), np.std(cv_result))\n",
        "  msg1.append((np.mean(cv_result), np.std(cv_result)))\n",
        "  print(msg)\n",
        "\n",
        "# boxplot algorithm comparison\n",
        "print()\n",
        "fig = plt.figure(figsize=(12,8))\n",
        "fig.suptitle('Algorithm Comparison')\n",
        "ax = fig.add_subplot(111)\n",
        "plt.boxplot(model_result)\n",
        "ax.set_xticklabels(regressors)\n",
        "plt.show()\n",
        "\n",
        "\n",
        "# I will later only focus the model BayesianRidge\n",
        "\n",
        "Bayes_full_score = model_result[6]\n"
      ],
      "execution_count": null,
      "outputs": [
        {
          "output_type": "stream",
          "text": [
            "This is the sharing-bike training data set. It has 17379 instances, and it has 11 features.\n",
            "\n",
            "zr: 181.38 (0.84)\n",
            "LR: 129.02 (7.92)\n",
            "KN5: 111.38 (10.54)\n",
            "KN7: 108.97 (10.53)\n",
            "DT: 141.59 (16.23)\n",
            "ADA: 134.39 (17.44)\n",
            "Bayes: 129.04 (7.94)\n",
            "RF: 112.76 (11.90)\n",
            "\n"
          ],
          "name": "stdout"
        },
        {
          "output_type": "display_data",
          "data": {
            "image/png": "[encoded data removed]",
            "text/plain": [
              "<Figure size 864x576 with 1 Axes>"
            ]
          },
          "metadata": {
            "tags": [],
            "needs_background": "light"
          }
        }
      ]
    },
    {
      "cell_type": "code",
      "metadata": {
        "colab": {
          "base_uri": "https://localhost:8080/"
        },
        "id": "_3KkwiNSG2yP",
        "outputId": "bf9eb2a4-6f3e-4947-f504-6b70847ec5d6"
      },
      "source": [
        "print(len(msg1))\n",
        "print(msg1)"
      ],
      "execution_count": null,
      "outputs": [
        {
          "output_type": "stream",
          "text": [
            "8\n",
            "[(181.38065274475747, 0.8443521751880192), (129.0202577101718, 7.9172549946086805), (111.38135828476334, 10.543236552263714), (108.96673346030079, 10.530409770327632), (141.59228627547043, 16.232081335346212), (134.39416483396752, 17.44320450540752), (129.03718281064147, 7.935673488728874), (112.75976759110195, 11.902784235893176)]\n"
          ],
          "name": "stdout"
        }
      ]
    },
    {
      "cell_type": "markdown",
      "metadata": {
        "id": "G_Cijb6dGKLG"
      },
      "source": [
        "According to the rmse score of each method, we could see the all the methods outperforms the baseline(181.38). The best model in this round is the KNN model (rmse=109).\n",
        "\n",
        "Now, I will compare the performance of my regressors by using scipy.stats.ttest_rel. "
      ]
    },
    {
      "cell_type": "code",
      "metadata": {
        "colab": {
          "base_uri": "https://localhost:8080/"
        },
        "id": "zU8i2YxwpBuu",
        "outputId": "099be8c0-3703-41c5-b335-085e8330ee68"
      },
      "source": [
        "from scipy import stats\n",
        "# I want to compare my results statistically. \n",
        "# To do that, I'm using the paired T-Test as \n",
        "# described in the slides\n",
        "\n",
        "# This is the test where the classifiers are tested over the same data\n",
        "\n",
        "# If we accept the null hypothesis, we can say that (for p<0.05), there is no\n",
        "# statistically significant difference between our results (they are, statistically, the same)\n",
        "\n",
        "# If we reject the null hypothesis, then there is a statistically significant difference\n",
        "# in the results (for p<0.05)\n",
        "\n",
        "\n",
        "print()\n",
        "print('***Performing t-tests***\\n\\n')\n",
        "\n",
        "ttest,pval = stats.ttest_rel(model_result[0], model_result[1])\n",
        "\n",
        "print('P-Val between ZeroR and Linear Regression (p<0.05): %.2f' % pval)\n",
        "\n",
        "if pval<0.05:\n",
        "    print(\"reject null hypothesis\")\n",
        "else:\n",
        "    print(\"accept null hypothesis\") \n",
        "\n",
        "print()    \n",
        "\n",
        "ttest,pval = stats.ttest_rel(model_result[1], model_result[6])\n",
        "print('P-Val between Linear Regression and BayesianRidge (p<0.05): %.2f' % pval)\n",
        "if pval<0.05:\n",
        "    print(\"reject null hypothesis\")\n",
        "else:\n",
        "    print(\"accept null hypothesis\")\n",
        "\n"
      ],
      "execution_count": null,
      "outputs": [
        {
          "output_type": "stream",
          "text": [
            "\n",
            "***Performing t-tests***\n",
            "\n",
            "\n",
            "P-Val between ZeroR and Linear Regression (p<0.05): 0.00\n",
            "reject null hypothesis\n",
            "\n",
            "P-Val between Linear Regression and BayesianRidge (p<0.05): 0.29\n",
            "accept null hypothesis\n"
          ],
          "name": "stdout"
        }
      ]
    },
    {
      "cell_type": "markdown",
      "metadata": {
        "id": "mmG0PBijtqW0"
      },
      "source": [
        "After the comparison, we could see that the method BayesianRidge has the statistically significant difference in the result. Hence, in the later feature elimination, I will use the BayesianRidge model."
      ]
    },
    {
      "cell_type": "code",
      "metadata": {
        "colab": {
          "base_uri": "https://localhost:8080/"
        },
        "id": "9AX95N4dYdfh",
        "outputId": "3b752e27-8f70-461a-8a56-8221956e7347"
      },
      "source": [
        "\n",
        "print('\\n***Examining Features***\\n\\n')\n",
        "\n",
        "# I will use RFE to select the 7 best features. This is MY choice of how many\n",
        "# features to select for next round.\n",
        "CurrentNames = ['yr','workingday','temp','hum','windspeed','early_morni','late_morni','early_aftern','late_aftern',\n",
        "                'evening','night']\n",
        "\t\t\t\t\t\t\t\t\t\t\t\n",
        "lin = LinearRegression()\n",
        "rfe = RFE(estimator=lin, step=1,n_features_to_select=7)\n",
        "rfe.fit(X, y)\n",
        "\n",
        "print('Feature : Ranking')\n",
        "print('-----------------')\n",
        "for i in range(len(CurrentNames)):\n",
        "  print(CurrentNames[i],' : ',rfe.ranking_[i])\n",
        "\n",
        "\n",
        "\n"
      ],
      "execution_count": null,
      "outputs": [
        {
          "output_type": "stream",
          "text": [
            "\n",
            "***Examining Features***\n",
            "\n",
            "\n",
            "Feature : Ranking\n",
            "-----------------\n",
            "yr  :  1\n",
            "workingday  :  5\n",
            "temp  :  1\n",
            "hum  :  1\n",
            "windspeed  :  1\n",
            "early_morni  :  3\n",
            "late_morni  :  2\n",
            "early_aftern  :  4\n",
            "late_aftern  :  1\n",
            "evening  :  1\n",
            "night  :  1\n"
          ],
          "name": "stdout"
        }
      ]
    },
    {
      "cell_type": "markdown",
      "metadata": {
        "id": "r8oxpPcpPnck"
      },
      "source": [
        "##### round 2: 7 features\n",
        "Now we are selected 7 best features.\n",
        "\n",
        "We are going to the third round of model testing for BayesianRidge."
      ]
    },
    {
      "cell_type": "code",
      "metadata": {
        "colab": {
          "base_uri": "https://localhost:8080/",
          "height": 197
        },
        "id": "ikziONd4O5dC",
        "outputId": "7dae912a-536e-40f8-f908-c6ddf7a54847"
      },
      "source": [
        "# drop the non-selected data\n",
        "bike_data_copy_ = bike_data_copy.copy()\n",
        "bike_data_copy_.drop('workingday',axis=1,inplace=True)\n",
        "bike_data_copy_.drop('early_morni',axis=1,inplace=True)\n",
        "bike_data_copy_.drop('late_morni',axis=1,inplace=True)\n",
        "bike_data_copy_.drop('early_aftern',axis=1,inplace=True)\n",
        "bike_data_copy_.head()"
      ],
      "execution_count": null,
      "outputs": [
        {
          "output_type": "execute_result",
          "data": {
            "text/html": [
              "<div>\n",
              "<style scoped>\n",
              "    .dataframe tbody tr th:only-of-type {\n",
              "        vertical-align: middle;\n",
              "    }\n",
              "\n",
              "    .dataframe tbody tr th {\n",
              "        vertical-align: top;\n",
              "    }\n",
              "\n",
              "    .dataframe thead th {\n",
              "        text-align: right;\n",
              "    }\n",
              "</style>\n",
              "<table border=\"1\" class=\"dataframe\">\n",
              "  <thead>\n",
              "    <tr style=\"text-align: right;\">\n",
              "      <th></th>\n",
              "      <th>yr</th>\n",
              "      <th>temp</th>\n",
              "      <th>hum</th>\n",
              "      <th>windspeed</th>\n",
              "      <th>late_aftern</th>\n",
              "      <th>evening</th>\n",
              "      <th>night</th>\n",
              "      <th>cnt</th>\n",
              "    </tr>\n",
              "  </thead>\n",
              "  <tbody>\n",
              "    <tr>\n",
              "      <th>1</th>\n",
              "      <td>0</td>\n",
              "      <td>0.24</td>\n",
              "      <td>0.81</td>\n",
              "      <td>0.0</td>\n",
              "      <td>0</td>\n",
              "      <td>0</td>\n",
              "      <td>1</td>\n",
              "      <td>16</td>\n",
              "    </tr>\n",
              "    <tr>\n",
              "      <th>2</th>\n",
              "      <td>0</td>\n",
              "      <td>0.22</td>\n",
              "      <td>0.80</td>\n",
              "      <td>0.0</td>\n",
              "      <td>0</td>\n",
              "      <td>0</td>\n",
              "      <td>1</td>\n",
              "      <td>40</td>\n",
              "    </tr>\n",
              "    <tr>\n",
              "      <th>3</th>\n",
              "      <td>0</td>\n",
              "      <td>0.22</td>\n",
              "      <td>0.80</td>\n",
              "      <td>0.0</td>\n",
              "      <td>0</td>\n",
              "      <td>0</td>\n",
              "      <td>1</td>\n",
              "      <td>32</td>\n",
              "    </tr>\n",
              "    <tr>\n",
              "      <th>4</th>\n",
              "      <td>0</td>\n",
              "      <td>0.24</td>\n",
              "      <td>0.75</td>\n",
              "      <td>0.0</td>\n",
              "      <td>0</td>\n",
              "      <td>0</td>\n",
              "      <td>1</td>\n",
              "      <td>13</td>\n",
              "    </tr>\n",
              "    <tr>\n",
              "      <th>5</th>\n",
              "      <td>0</td>\n",
              "      <td>0.24</td>\n",
              "      <td>0.75</td>\n",
              "      <td>0.0</td>\n",
              "      <td>0</td>\n",
              "      <td>0</td>\n",
              "      <td>1</td>\n",
              "      <td>1</td>\n",
              "    </tr>\n",
              "  </tbody>\n",
              "</table>\n",
              "</div>"
            ],
            "text/plain": [
              "   yr  temp   hum  windspeed  late_aftern  evening  night  cnt\n",
              "1   0  0.24  0.81        0.0            0        0      1   16\n",
              "2   0  0.22  0.80        0.0            0        0      1   40\n",
              "3   0  0.22  0.80        0.0            0        0      1   32\n",
              "4   0  0.24  0.75        0.0            0        0      1   13\n",
              "5   0  0.24  0.75        0.0            0        0      1    1"
            ]
          },
          "metadata": {
            "tags": []
          },
          "execution_count": 13
        }
      ]
    },
    {
      "cell_type": "code",
      "metadata": {
        "colab": {
          "base_uri": "https://localhost:8080/"
        },
        "id": "z2q2cgkAVUpk",
        "outputId": "1ad61551-7be5-44fe-e205-2dc1ee6b4523"
      },
      "source": [
        "# BayesianRidge\n",
        "\n",
        "import warnings\n",
        "warnings.filterwarnings(\"ignore\",category=UserWarning)\n",
        "\n",
        "# Print the results from the full model\n",
        "msg = \"BayesianRidge, 11 features: {:.2f} ({:.2f})\".format(np.mean(Bayes_full_score), np.std(Bayes_full_score))\n",
        "print(msg)\n",
        "print()\n",
        "\n",
        "array = bike_data_copy_.values\n",
        "X_small = array[:,0:-1]\n",
        "y_small = array[:,-1]\n",
        "\n",
        "rows,cols = X_small.shape\n",
        "print(\"This is the sharing-bike training data set. It has\", rows, \"instances, and it has\", cols, \"features.\\n\")\n",
        "\n",
        "# prepare configuration for cross validation test harness\n",
        "seed = 1\n",
        "\n",
        "# train and test the only model BayesianRidge\n",
        "\n",
        "cv_results_ = model_selection.cross_val_score(BayesianRidge(), X_small, y_small, cv=10, scoring=scorings)\n",
        "cv_results_2 = [abs(j)**0.5 for j in cv_results_]\n",
        "msg2 = \"BayesianRidge, 7 features: {:.2f} ({:.2f})\".format(np.mean(cv_results_2), np.std(cv_results_2))\n",
        "print(msg2)\n",
        "print()\n",
        "\n",
        "\n",
        "# This time conduct an t-test (because the feature sets are different)\n",
        "# between this experiment, and the previous one with BayesianRidge, above\n",
        "\n",
        "# Same rules apply - accepting the null hypothesis means that there is NOT a statistically\n",
        "# significant difference between the two scores. IF that's the case, then I've got a smaller model\n",
        "# with EQUAL predictive power to the larger model.\n",
        "\n",
        "ttest,pval = stats.ttest_ind(cv_results_2, model_result[6])\n",
        "print('P-Val between full-feature and reduced feature data set using BayesianRidge (p<0.05): %.2f' % pval)\n",
        "\n",
        "if pval<0.05:\n",
        "    print(\"reject null hypothesis\")\n",
        "else:\n",
        "    print(\"accept null hypothesis\")\n",
        "\n"
      ],
      "execution_count": null,
      "outputs": [
        {
          "output_type": "stream",
          "text": [
            "BayesianRidge, 11 features: 129.04 (7.94)\n",
            "\n",
            "This is the sharing-bike training data set. It has 17379 instances, and it has 7 features.\n",
            "\n",
            "BayesianRidge, 7 features: 127.43 (29.72)\n",
            "\n",
            "P-Val between full-feature and reduced feature data set using BayesianRidge (p<0.05): 0.88\n",
            "accept null hypothesis\n"
          ],
          "name": "stdout"
        }
      ]
    },
    {
      "cell_type": "markdown",
      "metadata": {
        "id": "EbIUOlg41Vsf"
      },
      "source": [
        "Now, by using 7 features with the model BayesianRidge, we have the there is not a statistically significant difference between the two scores (score of 7 features and score of 9 features). That means that by now, we have a smaller model which is with 7 features, with equal predictive power to the larger model. "
      ]
    },
    {
      "cell_type": "code",
      "metadata": {
        "colab": {
          "base_uri": "https://localhost:8080/"
        },
        "id": "BA_-AaV4ZBx9",
        "outputId": "4b6b9912-d4fe-4bf0-be51-c66ffa0d4ec2"
      },
      "source": [
        "\n",
        "print('\\n***Examining Features***\\n\\n')\n",
        "\n",
        "# I've used RFE to select the 5 best features. This is MY choice of how many\n",
        "# features to select for next round.\n",
        "CurrentNames = ['yr','workingday','temp','hum','windspeed','early_morni','late_morni','early_aftern','late_aftern',\n",
        "                'evening','night']\n",
        "\t\t\t\t\t\t\t\t\t\t\t\n",
        "lin = LinearRegression()\n",
        "rfe = RFE(estimator=lin, step=1,n_features_to_select=5)\n",
        "rfe.fit(X, y)\n",
        "\n",
        "print('Feature : Ranking')\n",
        "print('-----------------')\n",
        "for i in range(len(CurrentNames)):\n",
        "  print(CurrentNames[i],' : ',rfe.ranking_[i])\n",
        "\n",
        "\n",
        "\n"
      ],
      "execution_count": null,
      "outputs": [
        {
          "output_type": "stream",
          "text": [
            "\n",
            "***Examining Features***\n",
            "\n",
            "\n",
            "Feature : Ranking\n",
            "-----------------\n",
            "yr  :  2\n",
            "workingday  :  7\n",
            "temp  :  1\n",
            "hum  :  1\n",
            "windspeed  :  3\n",
            "early_morni  :  5\n",
            "late_morni  :  4\n",
            "early_aftern  :  6\n",
            "late_aftern  :  1\n",
            "evening  :  1\n",
            "night  :  1\n"
          ],
          "name": "stdout"
        }
      ]
    },
    {
      "cell_type": "markdown",
      "metadata": {
        "id": "FTx4wfkaZYIJ"
      },
      "source": [
        "##### round 3: 5 features\n",
        "Now we‘ve selected 5 best features.\n",
        "\n",
        "We are going to the 4th round of model testing to see how is the rmse changes. "
      ]
    },
    {
      "cell_type": "code",
      "metadata": {
        "id": "pthGL02SZW9k"
      },
      "source": [
        "\n",
        "# drop the non-selected data\n",
        "bike_data_copy_ = bike_data_copy.copy()\n",
        "bike_data_copy_.drop('yr',axis=1,inplace=True)\n",
        "bike_data_copy_.drop('workingday',axis=1,inplace=True)\n",
        "bike_data_copy_.drop('early_morni',axis=1,inplace=True)\n",
        "bike_data_copy_.drop('windspeed',axis=1,inplace=True)\n",
        "bike_data_copy_.drop('late_morni',axis=1,inplace=True)\n",
        "bike_data_copy_.drop('early_aftern',axis=1,inplace=True)\n"
      ],
      "execution_count": null,
      "outputs": []
    },
    {
      "cell_type": "code",
      "metadata": {
        "colab": {
          "base_uri": "https://localhost:8080/"
        },
        "id": "eWEdYvdBZwxX",
        "outputId": "0c1e6225-cc1a-4b6e-8373-c6aef9b5dccd"
      },
      "source": [
        "# BayesianRidge\n",
        "\n",
        "import warnings\n",
        "warnings.filterwarnings(\"ignore\",category=UserWarning)\n",
        "\n",
        "# Print the results from the full model\n",
        "msg = \"BayesianRidge, 11 features: {:.2f} ({:.2f})\".format(np.mean(Bayes_full_score), np.std(Bayes_full_score))\n",
        "print(msg)\n",
        "print()\n",
        "\n",
        "# Print the results from the 7 feature model\n",
        "msg2 = \"BayesianRidge, 7 features: {:.2f} ({:.2f})\".format(np.mean(cv_results_2), np.std(cv_results_2))\n",
        "print(msg2)\n",
        "print()\n",
        "\n",
        "\n",
        "array = bike_data_copy_.values\n",
        "X_small = array[:,0:-1]\n",
        "y_small = array[:,-1]\n",
        "\n",
        "rows,cols = X_small.shape\n",
        "print(\"This is the sharing-bike training data set. It has\", rows, \"instances, and it has\", cols, \"features.\\n\")\n",
        "\n",
        "# prepare configuration for cross validation test harness\n",
        "seed = 1\n",
        "\n",
        "# train and test the only model BayesianRidge\n",
        "\n",
        "cv_results_ = model_selection.cross_val_score(BayesianRidge(), X_small, y_small, cv=10, scoring=scorings)\n",
        "cv_results_3 = [abs(j)**0.5 for j in cv_results_]\n",
        "msg3 = \"BayesianRidge, 5 features: {:.2f} ({:.2f})\".format(np.mean(cv_results_3), np.std(cv_results_3))\n",
        "print(msg3)\n",
        "print()\n",
        "\n",
        "\n",
        "# This time conduct an t-test (because the feature sets are different)\n",
        "# between this experiment, and the previous one with BayesianRidge, above\n",
        "\n",
        "# Same rules apply - accepting the null hypothesis means that there is NOT a statistically\n",
        "# significant difference between the two scores. IF that's the case, then I've got a smaller model\n",
        "# with EQUAL predictive power to the larger model.\n",
        "\n",
        "ttest,pval = stats.ttest_ind(cv_results_3, cv_results_2)\n",
        "print('P-Val between full-feature and reduced feature data set using BayesianRidge (p<0.05): %.2f' % pval)\n",
        "\n",
        "if pval<0.05:\n",
        "    print(\"reject null hypothesis\")\n",
        "else:\n",
        "    print(\"accept null hypothesis\")\n",
        "\n"
      ],
      "execution_count": null,
      "outputs": [
        {
          "output_type": "stream",
          "text": [
            "BayesianRidge, 11 features: 129.04 (7.94)\n",
            "\n",
            "BayesianRidge, 7 features: 127.43 (29.72)\n",
            "\n",
            "This is the sharing-bike training data set. It has 17379 instances, and it has 5 features.\n",
            "\n",
            "BayesianRidge, 5 features: 135.95 (31.69)\n",
            "\n",
            "P-Val between full-feature and reduced feature data set using BayesianRidge (p<0.05): 0.56\n",
            "accept null hypothesis\n"
          ],
          "name": "stdout"
        }
      ]
    },
    {
      "cell_type": "markdown",
      "metadata": {
        "id": "7gBKuEYb3rGW"
      },
      "source": [
        "Agagin, by using 5 features with the model BayesianRidge, we have the there is not a statistically significant difference between the two scores (score of 7 features and score of 5 features). That means that by now, we have a smaller model which is with 5 features, with equal predictive power to the larger model. "
      ]
    },
    {
      "cell_type": "code",
      "metadata": {
        "colab": {
          "base_uri": "https://localhost:8080/"
        },
        "id": "iik0WfJD5MJn",
        "outputId": "b7276207-7dc3-4c47-830d-c9ff2370780f"
      },
      "source": [
        "\n",
        "print('\\n***Examining Features***\\n\\n')\n",
        "\n",
        "# I've used RFE to select the 2 best features. This is MY choice of how many\n",
        "# features to select for next round.\n",
        "CurrentNames = ['yr','workingday','temp','hum','windspeed','early_morni','late_morni','early_aftern','late_aftern',\n",
        "                'evening','night']\n",
        "\t\t\t\t\t\t\t\t\t\t\t\n",
        "lin = LinearRegression()\n",
        "rfe = RFE(estimator=lin, step=1,n_features_to_select=2)\n",
        "rfe.fit(X, y)\n",
        "\n",
        "print('Feature : Ranking')\n",
        "print('-----------------')\n",
        "for i in range(len(CurrentNames)):\n",
        "  print(CurrentNames[i],' : ',rfe.ranking_[i])\n",
        "\n",
        "\n",
        "\n"
      ],
      "execution_count": null,
      "outputs": [
        {
          "output_type": "stream",
          "text": [
            "\n",
            "***Examining Features***\n",
            "\n",
            "\n",
            "Feature : Ranking\n",
            "-----------------\n",
            "yr  :  5\n",
            "workingday  :  10\n",
            "temp  :  1\n",
            "hum  :  1\n",
            "windspeed  :  6\n",
            "early_morni  :  8\n",
            "late_morni  :  7\n",
            "early_aftern  :  9\n",
            "late_aftern  :  3\n",
            "evening  :  4\n",
            "night  :  2\n"
          ],
          "name": "stdout"
        }
      ]
    },
    {
      "cell_type": "markdown",
      "metadata": {
        "id": "sRc2dOmt5CA2"
      },
      "source": [
        "##### round 5: 2 features\n",
        "Now we are selected 2 best features.\n",
        "\n",
        "We are going to the 5th round of model testing to see how is the rmse changes. "
      ]
    },
    {
      "cell_type": "code",
      "metadata": {
        "colab": {
          "base_uri": "https://localhost:8080/",
          "height": 197
        },
        "id": "rOxrY_XQ5H9c",
        "outputId": "28de1516-8b82-4c4c-98ac-e363b4efa317"
      },
      "source": [
        "# drop the non-selected data\n",
        "bike_data_copy_ = bike_data_copy.copy()\n",
        "bike_data_copy_.drop('yr',axis=1,inplace=True)\n",
        "bike_data_copy_.drop('workingday',axis=1,inplace=True)\n",
        "bike_data_copy_.drop('early_morni',axis=1,inplace=True)\n",
        "bike_data_copy_.drop('windspeed',axis=1,inplace=True)\n",
        "bike_data_copy_.drop('late_morni',axis=1,inplace=True)\n",
        "bike_data_copy_.drop('early_aftern',axis=1,inplace=True)\n",
        "bike_data_copy_.drop('late_aftern',axis=1,inplace=True)\n",
        "bike_data_copy_.drop('evening',axis=1,inplace=True)\n",
        "bike_data_copy_.drop('night',axis=1,inplace=True)\n",
        "bike_data_copy_.head()"
      ],
      "execution_count": null,
      "outputs": [
        {
          "output_type": "execute_result",
          "data": {
            "text/html": [
              "<div>\n",
              "<style scoped>\n",
              "    .dataframe tbody tr th:only-of-type {\n",
              "        vertical-align: middle;\n",
              "    }\n",
              "\n",
              "    .dataframe tbody tr th {\n",
              "        vertical-align: top;\n",
              "    }\n",
              "\n",
              "    .dataframe thead th {\n",
              "        text-align: right;\n",
              "    }\n",
              "</style>\n",
              "<table border=\"1\" class=\"dataframe\">\n",
              "  <thead>\n",
              "    <tr style=\"text-align: right;\">\n",
              "      <th></th>\n",
              "      <th>temp</th>\n",
              "      <th>hum</th>\n",
              "      <th>cnt</th>\n",
              "    </tr>\n",
              "  </thead>\n",
              "  <tbody>\n",
              "    <tr>\n",
              "      <th>1</th>\n",
              "      <td>0.24</td>\n",
              "      <td>0.81</td>\n",
              "      <td>16</td>\n",
              "    </tr>\n",
              "    <tr>\n",
              "      <th>2</th>\n",
              "      <td>0.22</td>\n",
              "      <td>0.80</td>\n",
              "      <td>40</td>\n",
              "    </tr>\n",
              "    <tr>\n",
              "      <th>3</th>\n",
              "      <td>0.22</td>\n",
              "      <td>0.80</td>\n",
              "      <td>32</td>\n",
              "    </tr>\n",
              "    <tr>\n",
              "      <th>4</th>\n",
              "      <td>0.24</td>\n",
              "      <td>0.75</td>\n",
              "      <td>13</td>\n",
              "    </tr>\n",
              "    <tr>\n",
              "      <th>5</th>\n",
              "      <td>0.24</td>\n",
              "      <td>0.75</td>\n",
              "      <td>1</td>\n",
              "    </tr>\n",
              "  </tbody>\n",
              "</table>\n",
              "</div>"
            ],
            "text/plain": [
              "   temp   hum  cnt\n",
              "1  0.24  0.81   16\n",
              "2  0.22  0.80   40\n",
              "3  0.22  0.80   32\n",
              "4  0.24  0.75   13\n",
              "5  0.24  0.75    1"
            ]
          },
          "metadata": {
            "tags": []
          },
          "execution_count": 19
        }
      ]
    },
    {
      "cell_type": "code",
      "metadata": {
        "colab": {
          "base_uri": "https://localhost:8080/"
        },
        "id": "0M80omMs5hzP",
        "outputId": "315ab3d0-8713-4e06-fb00-ef1892c9333b"
      },
      "source": [
        "# BayesianRidge\n",
        "\n",
        "import warnings\n",
        "warnings.filterwarnings(\"ignore\",category=UserWarning)\n",
        "\n",
        "# Print the results from the full model\n",
        "msg = \"BayesianRidge, 11 features: {:.2f} ({:.2f})\".format(np.mean(Bayes_full_score), np.std(Bayes_full_score))\n",
        "print(msg)\n",
        "print()\n",
        "\n",
        "# Print the results from the 7 feature model\n",
        "msg2 = \"BayesianRidge, 7 features: {:.2f} ({:.2f})\".format(np.mean(cv_results_2), np.std(cv_results_2))\n",
        "print(msg2)\n",
        "print()\n",
        "\n",
        "# Print the results from the 5 feature model\n",
        "msg3 = \"BayesianRidge, 5 features: {:.2f} ({:.2f})\".format(np.mean(cv_results_3), np.std(cv_results_3))\n",
        "print(msg3)\n",
        "print()\n",
        "\n",
        "array = bike_data_copy_.values\n",
        "X_small = array[:,0:-1]\n",
        "y_small = array[:,-1]\n",
        "\n",
        "rows,cols = X_small.shape\n",
        "print(\"This is the sharing-bike training data set. It has\", rows, \"instances, and it has\", cols, \"features.\\n\")\n",
        "\n",
        "# prepare configuration for cross validation test harness\n",
        "seed = 1\n",
        "\n",
        "# train and test the only model BayesianRidge\n",
        "\n",
        "cv_results_ = model_selection.cross_val_score(BayesianRidge(), X_small, y_small, cv=10, scoring=scorings)\n",
        "cv_results_4 = [abs(j)**0.5 for j in cv_results_]\n",
        "msg4 = \"BayesianRidge, 2 features: {:.2f} ({:.2f})\".format(np.mean(cv_results_4), np.std(cv_results_4))\n",
        "print(msg4)\n",
        "print()\n",
        "\n",
        "\n",
        "# This time conduct an t-test (because the feature sets are different)\n",
        "# between this experiment, and the previous one with BayesianRidge, above\n",
        "\n",
        "# Same rules apply - accepting the null hypothesis means that there is NOT a statistically\n",
        "# significant difference between the two scores. IF that's the case, then I've got a smaller model\n",
        "# with EQUAL predictive power to the larger model.\n",
        "\n",
        "ttest,pval = stats.ttest_ind(cv_results_4, cv_results_3)\n",
        "print('P-Val between full-feature and reduced feature data set using BayesianRidge (p<0.05): %.2f' % pval)\n",
        "\n",
        "if pval<0.05:\n",
        "    print(\"reject null hypothesis\")\n",
        "else:\n",
        "    print(\"accept null hypothesis\")\n",
        "\n"
      ],
      "execution_count": null,
      "outputs": [
        {
          "output_type": "stream",
          "text": [
            "BayesianRidge, 11 features: 129.04 (7.94)\n",
            "\n",
            "BayesianRidge, 7 features: 127.43 (29.72)\n",
            "\n",
            "BayesianRidge, 5 features: 135.95 (31.69)\n",
            "\n",
            "This is the sharing-bike training data set. It has 17379 instances, and it has 2 features.\n",
            "\n",
            "BayesianRidge, 2 features: 156.21 (41.67)\n",
            "\n",
            "P-Val between full-feature and reduced feature data set using BayesianRidge (p<0.05): 0.26\n",
            "accept null hypothesis\n"
          ],
          "name": "stdout"
        }
      ]
    },
    {
      "cell_type": "markdown",
      "metadata": {
        "id": "Gj2imay5bdle"
      },
      "source": [
        "Agagin, by using 2 features with the model BayesianRidge, we have the there is not a statistically significant difference between the two scores (score of 5 features and score of 2 features). That means that by now, we have a smaller model which is with 5 features, with equal predictive power to the larger model. \n",
        "\n",
        "This shows that by now, the most important/influential features are humidity and temperature. These two features are the most important features that would effect the number of bikes people rent.  "
      ]
    },
    {
      "cell_type": "markdown",
      "metadata": {
        "id": "hGs4r2Hj7iNe"
      },
      "source": [
        "#### Find the best features relatively by using CV score"
      ]
    },
    {
      "cell_type": "markdown",
      "metadata": {
        "id": "WgWAmZo67iHG"
      },
      "source": [
        "Now we will found out the best features for the problem set by RFECV. "
      ]
    },
    {
      "cell_type": "code",
      "metadata": {
        "colab": {
          "base_uri": "https://localhost:8080/",
          "height": 781
        },
        "id": "-NwsdyQe6vcg",
        "outputId": "82c09d24-bdea-40f0-d18b-70aacf8e2e68"
      },
      "source": [
        "# Above, I selected 2 features by RFE. Instead I can use the package\n",
        "# RFECV, which performs RFE with cross-validation, to FIND the best features\n",
        "# for this problem set.\n",
        "\n",
        "# NOTE HOWEVER that this means the BEST features by RFE. There could be other\n",
        "# combination of features that outperform these\n",
        "\n",
        "from sklearn.feature_selection import RFECV\n",
        "import matplotlib.pyplot as plt\n",
        "from sklearn.model_selection import StratifiedKFold\n",
        "\n",
        "rows,cols = X.shape\n",
        "print(\"This is the sharing bike training data set. It has\", rows, \"instances, and it has\", cols, \"features.\\n\")\n",
        "\n",
        "selector = RFECV(estimator=lin, step=1, cv=5)\n",
        "selector = selector.fit(X, y)\n",
        "\n",
        "\n",
        "# I can also plot the CV score AGAINST the number of features\n",
        "# For visual confirmation of the best score / feature combination\n",
        "\n",
        "plt.figure(figsize=(12,8))\n",
        "plt.xlabel(\"Number of features selected\")\n",
        "plt.ylabel(\"Cross validation score\")\n",
        "plt.plot(range(1, len(selector.grid_scores_) + 1), selector.grid_scores_)\n",
        "plt.show()\n",
        "\n",
        "print()\n",
        "\n",
        "print('Feature : Ranking')\n",
        "print('-----------------')\n",
        "for i in range(len(CurrentNames)):\n",
        "  print(CurrentNames[i],' : ',selector.ranking_[i])"
      ],
      "execution_count": null,
      "outputs": [
        {
          "output_type": "stream",
          "text": [
            "This is the sharing bike training data set. It has 17379 instances, and it has 11 features.\n",
            "\n"
          ],
          "name": "stdout"
        },
        {
          "output_type": "display_data",
          "data": {
            "image/png": "[encoded data removed]",
            "text/plain": [
              "<Figure size 864x576 with 1 Axes>"
            ]
          },
          "metadata": {
            "tags": [],
            "needs_background": "light"
          }
        },
        {
          "output_type": "stream",
          "text": [
            "\n",
            "Feature : Ranking\n",
            "-----------------\n",
            "yr  :  1\n",
            "workingday  :  2\n",
            "temp  :  1\n",
            "hum  :  1\n",
            "windspeed  :  1\n",
            "early_morni  :  1\n",
            "late_morni  :  1\n",
            "early_aftern  :  1\n",
            "late_aftern  :  1\n",
            "evening  :  1\n",
            "night  :  1\n"
          ],
          "name": "stdout"
        }
      ]
    },
    {
      "cell_type": "code",
      "metadata": {
        "colab": {
          "base_uri": "https://localhost:8080/",
          "height": 197
        },
        "id": "TxK5lhM0-acM",
        "outputId": "c5ee241a-04f0-4004-8668-3c85c6a3f209"
      },
      "source": [
        "# then we will create a new dataframe \n",
        "\n",
        "bike_data_copy_ = bike_data_copy.copy()\n",
        "bike_data_copy_.drop('workingday',axis=1,inplace=True)\n",
        "bike_data_copy_.head()\n"
      ],
      "execution_count": null,
      "outputs": [
        {
          "output_type": "execute_result",
          "data": {
            "text/html": [
              "<div>\n",
              "<style scoped>\n",
              "    .dataframe tbody tr th:only-of-type {\n",
              "        vertical-align: middle;\n",
              "    }\n",
              "\n",
              "    .dataframe tbody tr th {\n",
              "        vertical-align: top;\n",
              "    }\n",
              "\n",
              "    .dataframe thead th {\n",
              "        text-align: right;\n",
              "    }\n",
              "</style>\n",
              "<table border=\"1\" class=\"dataframe\">\n",
              "  <thead>\n",
              "    <tr style=\"text-align: right;\">\n",
              "      <th></th>\n",
              "      <th>yr</th>\n",
              "      <th>temp</th>\n",
              "      <th>hum</th>\n",
              "      <th>windspeed</th>\n",
              "      <th>early_morni</th>\n",
              "      <th>late_morni</th>\n",
              "      <th>early_aftern</th>\n",
              "      <th>late_aftern</th>\n",
              "      <th>evening</th>\n",
              "      <th>night</th>\n",
              "      <th>cnt</th>\n",
              "    </tr>\n",
              "  </thead>\n",
              "  <tbody>\n",
              "    <tr>\n",
              "      <th>1</th>\n",
              "      <td>0</td>\n",
              "      <td>0.24</td>\n",
              "      <td>0.81</td>\n",
              "      <td>0.0</td>\n",
              "      <td>0</td>\n",
              "      <td>0</td>\n",
              "      <td>0</td>\n",
              "      <td>0</td>\n",
              "      <td>0</td>\n",
              "      <td>1</td>\n",
              "      <td>16</td>\n",
              "    </tr>\n",
              "    <tr>\n",
              "      <th>2</th>\n",
              "      <td>0</td>\n",
              "      <td>0.22</td>\n",
              "      <td>0.80</td>\n",
              "      <td>0.0</td>\n",
              "      <td>0</td>\n",
              "      <td>0</td>\n",
              "      <td>0</td>\n",
              "      <td>0</td>\n",
              "      <td>0</td>\n",
              "      <td>1</td>\n",
              "      <td>40</td>\n",
              "    </tr>\n",
              "    <tr>\n",
              "      <th>3</th>\n",
              "      <td>0</td>\n",
              "      <td>0.22</td>\n",
              "      <td>0.80</td>\n",
              "      <td>0.0</td>\n",
              "      <td>0</td>\n",
              "      <td>0</td>\n",
              "      <td>0</td>\n",
              "      <td>0</td>\n",
              "      <td>0</td>\n",
              "      <td>1</td>\n",
              "      <td>32</td>\n",
              "    </tr>\n",
              "    <tr>\n",
              "      <th>4</th>\n",
              "      <td>0</td>\n",
              "      <td>0.24</td>\n",
              "      <td>0.75</td>\n",
              "      <td>0.0</td>\n",
              "      <td>0</td>\n",
              "      <td>0</td>\n",
              "      <td>0</td>\n",
              "      <td>0</td>\n",
              "      <td>0</td>\n",
              "      <td>1</td>\n",
              "      <td>13</td>\n",
              "    </tr>\n",
              "    <tr>\n",
              "      <th>5</th>\n",
              "      <td>0</td>\n",
              "      <td>0.24</td>\n",
              "      <td>0.75</td>\n",
              "      <td>0.0</td>\n",
              "      <td>0</td>\n",
              "      <td>0</td>\n",
              "      <td>0</td>\n",
              "      <td>0</td>\n",
              "      <td>0</td>\n",
              "      <td>1</td>\n",
              "      <td>1</td>\n",
              "    </tr>\n",
              "  </tbody>\n",
              "</table>\n",
              "</div>"
            ],
            "text/plain": [
              "   yr  temp   hum  windspeed  ...  late_aftern  evening  night  cnt\n",
              "1   0  0.24  0.81        0.0  ...            0        0      1   16\n",
              "2   0  0.22  0.80        0.0  ...            0        0      1   40\n",
              "3   0  0.22  0.80        0.0  ...            0        0      1   32\n",
              "4   0  0.24  0.75        0.0  ...            0        0      1   13\n",
              "5   0  0.24  0.75        0.0  ...            0        0      1    1\n",
              "\n",
              "[5 rows x 11 columns]"
            ]
          },
          "metadata": {
            "tags": []
          },
          "execution_count": 22
        }
      ]
    },
    {
      "cell_type": "code",
      "metadata": {
        "colab": {
          "base_uri": "https://localhost:8080/"
        },
        "id": "IieXmSuL-uNf",
        "outputId": "0375a8d5-1644-4f63-ed68-8496f3f53cf1"
      },
      "source": [
        "# And rerun the experiment with BayesianRidge\n",
        "# print out all the scores for NB so we can compare them\n",
        "\n",
        "array = bike_data_copy_.values\n",
        "\n",
        "X_med = array[:,0:-1]\n",
        "y_med = array[:,-1]\n",
        "\n",
        "rows,cols = X_med.shape\n",
        "print(\"This is the sharing bike training data set. It has\", rows, \"instances, and it has\", cols, \"features.\\n\")\n",
        "\n",
        "cv_result_10f = model_selection.cross_val_score(BayesianRidge(), X_med, y_med, cv=10, scoring=scorings)\n",
        "cv_results_5 = [abs(j)**0.5 for j in cv_result_10f]\n",
        "msg5 = \"BayesianRidge, 10 features: {:.2f} ({:.2f})\".format(np.mean(cv_results_5), np.std(cv_results_5))\n",
        "print(msg5)\n",
        "print()\n",
        "\n",
        "\n",
        "print('Sharing-bike: RESULTS')\n",
        "# Print the results from the full model\n",
        "msg = \"11 features: {:.2f} ({:.2f})\".format(np.mean(Bayes_full_score), np.std(Bayes_full_score))\n",
        "print(msg)\n",
        "print()\n",
        "\n",
        "# Print the results from the 7 feature model\n",
        "msg2 = \"7 features: {:.2f} ({:.2f})\".format(np.mean(cv_results_2), np.std(cv_results_2))\n",
        "print(msg2)\n",
        "print()\n",
        "\n",
        "# Print the results from the 5 feature model\n",
        "msg3 = \"5 features: {:.2f} ({:.2f})\".format(np.mean(cv_results_3), np.std(cv_results_3))\n",
        "print(msg3)\n",
        "print()\n",
        "\n",
        "# Print the results from the 2 feature model\n",
        "msg4 = \"2 features: {:.2f} ({:.2f})\".format(np.mean(cv_results_4), np.std(cv_results_4))\n",
        "print(msg4)\n",
        "print()\n",
        "\n",
        "\n"
      ],
      "execution_count": null,
      "outputs": [
        {
          "output_type": "stream",
          "text": [
            "This is the sharing bike training data set. It has 17379 instances, and it has 10 features.\n",
            "\n",
            "BayesianRidge, 10 features: 127.39 (29.70)\n",
            "\n",
            "Sharing-bike: RESULTS\n",
            "11 features: 129.04 (7.94)\n",
            "\n",
            "7 features: 127.43 (29.72)\n",
            "\n",
            "5 features: 135.95 (31.69)\n",
            "\n",
            "2 features: 156.21 (41.67)\n",
            "\n"
          ],
          "name": "stdout"
        }
      ]
    },
    {
      "cell_type": "markdown",
      "metadata": {
        "id": "j-_LuI2qENFs"
      },
      "source": [
        "#### Result: Back to all models"
      ]
    },
    {
      "cell_type": "markdown",
      "metadata": {
        "id": "KjxRr-KfDOf8"
      },
      "source": [
        "We could see that indeed, the 10 features score is the smallest rmse scores among all the results, which is the best (among 11,7,5,2 features).\n",
        "\n",
        "These 10 features are : year,\ttemperature,\thumidity,\twindspeed,\tearly morning,\tlate morning\tearly afternoon,\tlate afternoon,\tevening, and night. These 10 features would have the most influence on the output, which is the number of sharing bike people would rent. "
      ]
    },
    {
      "cell_type": "code",
      "metadata": {
        "colab": {
          "base_uri": "https://localhost:8080/",
          "height": 984
        },
        "id": "v8G9FO1WDgaF",
        "outputId": "96c6b258-4c40-4834-a04b-eb0101b20f5c"
      },
      "source": [
        "# return 10 features to all the models and to see how they perform.\n",
        "\n",
        "\n",
        "model_result2 = []\n",
        "regressors2 = []\n",
        "for index in range(len(models)):\n",
        "  kfold = model_selection.StratifiedKFold(n_splits=10)\n",
        "  cv_results = model_selection.cross_val_score(models[index],X,y,cv=kfold,scoring=scorings)\n",
        "  cv_result = [abs(j)**0.5 for j in cv_results]\n",
        "  model_result2.append(cv_result)\n",
        "  regressors2.append(name[index])\n",
        "  msg2 = name[index]+ \", 10 features: {:.2f} ({:.2f})\".format(np.mean(cv_result), np.std(cv_result))\n",
        "\n",
        "  prevmsg = name[index]+ \", 11 features: {:.2f} ({:.2f})\".format(msg1[index][0], msg1[index][1])\n",
        "  print()\n",
        "  print(msg2)\n",
        "  print(prevmsg)\n",
        "\n",
        "\n",
        "# boxplot algorithm comparison\n",
        "print()\n",
        "fig = plt.figure(figsize=(12,8))\n",
        "fig.suptitle('Algorithm Comparison 10 features')\n",
        "ax = fig.add_subplot(111)\n",
        "plt.boxplot(model_result2)\n",
        "ax.set_xticklabels(regressors2)\n",
        "plt.show()\n",
        "\n"
      ],
      "execution_count": null,
      "outputs": [
        {
          "output_type": "stream",
          "text": [
            "\n",
            "zr, 10 features: 181.38 (0.84)\n",
            "zr, 11 features: 181.38 (0.84)\n",
            "\n",
            "LR, 10 features: 129.02 (7.92)\n",
            "LR, 11 features: 129.02 (7.92)\n",
            "\n",
            "KN5, 10 features: 111.38 (10.54)\n",
            "KN5, 11 features: 111.38 (10.54)\n",
            "\n",
            "KN7, 10 features: 108.97 (10.53)\n",
            "KN7, 11 features: 108.97 (10.53)\n",
            "\n",
            "DT, 10 features: 141.64 (15.66)\n",
            "DT, 11 features: 141.59 (16.23)\n",
            "\n",
            "ADA, 10 features: 133.13 (16.80)\n",
            "ADA, 11 features: 134.39 (17.44)\n",
            "\n",
            "Bayes, 10 features: 129.04 (7.94)\n",
            "Bayes, 11 features: 129.04 (7.94)\n",
            "\n",
            "RF, 10 features: 112.76 (11.90)\n",
            "RF, 11 features: 112.76 (11.90)\n",
            "\n"
          ],
          "name": "stdout"
        },
        {
          "output_type": "display_data",
          "data": {
            "image/png": "[encoded data removed]",
            "text/plain": [
              "<Figure size 864x576 with 1 Axes>"
            ]
          },
          "metadata": {
            "tags": [],
            "needs_background": "light"
          }
        }
      ]
    },
    {
      "cell_type": "markdown",
      "metadata": {
        "id": "WLKjLTdTlXHG"
      },
      "source": [
        "### Results\n",
        "\n",
        "Based on what the experiment shows above, we have 10 features that are selected to the most important features by using RFECV. They are: year, temp, hum, windspeed, early_morning, late_morning, early_afternoon, late_afternoon, evening, and night. After we put them back to all the models and compare the rmse scores with that of 11 features, we could see that only Decision Tree model improved. The others are almost staying the same. \n",
        "\n",
        "But we could also see that according to the 11, 10, 7, 5 and 2 features used on the BayesianRidge method, the 10 features indeed performs the best score. \n",
        "\n",
        "|  # of feature    | RMSE | St.Devi.|\n",
        "|-----------------|----------|-----------------|\n",
        "|  11  |   129.04   |      7.94       |\n",
        "|  10  |   127.43  |       29.7       |\n",
        "|7|   135.95   |       29.72       |\n",
        "|5|   135.95   |       31.69        |\n",
        "|     2     |  156.21   |       41.67       |\n",
        "\n",
        "\n",
        "                                                        Fig 1. Table of rmse of BayesianRidge\n",
        "\n",
        "Apart from that, after I used RFE by just focusing on only one model: BayesianRidge, I have that the model can be narrow down to 2 features. This means that the 2 features: Humidity, and temperature are the most important features for predicting the count of rental bikes including casual and registered users. "
      ]
    },
    {
      "cell_type": "code",
      "metadata": {
        "colab": {
          "base_uri": "https://localhost:8080/"
        },
        "id": "X8oK0HYxRV-t",
        "outputId": "9aa39add-6687-428d-849f-11060e8efc89"
      },
      "source": [
        "# we could see that the best model here based on the data above is KNN7. And we could also know that \n",
        "# DT is the model that improves with the smaller model. Hence we would like to see how close for KNN and DT\n",
        "print()\n",
        "print('***Performing t-tests***\\n\\n')\n",
        "\n",
        "ttest,pval = stats.ttest_rel(model_result[3], model_result[4])\n",
        "\n",
        "print('P-Val between KNN7 and Decision Tree (p<0.05): %.2f' % pval)\n",
        "\n",
        "if pval<0.05:\n",
        "    print(\"reject null hypothesis\")\n",
        "else:\n",
        "    print(\"accept null hypothesis\") \n",
        "\n"
      ],
      "execution_count": null,
      "outputs": [
        {
          "output_type": "stream",
          "text": [
            "\n",
            "***Performing t-tests***\n",
            "\n",
            "\n",
            "P-Val between KNN7 and Decision Tree (p<0.05): 0.00\n",
            "reject null hypothesis\n"
          ],
          "name": "stdout"
        }
      ]
    },
    {
      "cell_type": "markdown",
      "metadata": {
        "id": "UkDshk60s7mP"
      },
      "source": [
        "### Conclusion\n",
        "\n",
        "In this experiment, we could conclude that the most important features are: year, temp, hum, windspeed, early_morning, late_morning, early_afternoon, late_afternoon, evening, and night. This means that these 10 features are the features that would influence the total number of rental bikes including casual and registered users in hours/time period. This also shows that the holidays and weekends do not influence much towards the count. The Hour feature makes a lot influence towards the count.  \n",
        "\n",
        "Apart from that, we could also know that the most influential features among these 10 features are humidity and tempreture. This makes sense because riding bike is a exercise that requires the outdoor conditions. The humidity and tempreture are the two most important outdoor conditions among the given features.  \n",
        "\n",
        "The 10 features also make perfect sense that temp, hum, windspeed are all the outdoor conditions that riders are greatly depended. The hours also make a perfect sense that it follows majorities' daily work and rest. As well as year, since along with the advertisements and popularization of the sharing bike (a cheap and easy way of travel), the count will increase with the year passing by. [And here we only have 2 years]. \n",
        "\n",
        "As for the model performance, based on the results, we could conclude that the KNN model has the greatest predicting power. The Decision Tree performs better when having a smaller model. But still the DT does not perform over than KNN. After we see the statistically significant difference between DT and KNN7, we could see that there is a statistically significatn difference which means Decision Tree still performs worse than KNN7. "
      ]
    }
  ]
}