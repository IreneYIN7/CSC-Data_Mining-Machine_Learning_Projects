{
  "nbformat": 4,
  "nbformat_minor": 0,
  "metadata": {
    "kernelspec": {
      "display_name": "Python 3",
      "language": "python",
      "name": "python3"
    },
    "language_info": {
      "codemirror_mode": {
        "name": "ipython",
        "version": 3
      },
      "file_extension": ".py",
      "mimetype": "text/x-python",
      "name": "python",
      "nbconvert_exporter": "python",
      "pygments_lexer": "ipython3",
      "version": "3.7.0"
    },
    "colab": {
      "name": "Irene_CSC-321 Assignment 1.ipynb",
      "provenance": [],
      "collapsed_sections": [],
      "toc_visible": true,
      "include_colab_link": true
    }
  },
  "cells": [
    {
      "cell_type": "markdown",
      "metadata": {
        "id": "view-in-github",
        "colab_type": "text"
      },
      "source": [
        "<a href=\"https://colab.research.google.com/github/IreneYIN7/hello-world/blob/master/Irene_CSC_321_Assignment_1.ipynb\" target=\"_parent\"><img src=\"https://colab.research.google.com/assets/colab-badge.svg\" alt=\"Open In Colab\"/></a>"
      ]
    },
    {
      "cell_type": "markdown",
      "metadata": {
        "id": "5vF2KGxTkj7Q"
      },
      "source": [
        "# CSC-321: Data Mining and Machine Learning\n",
        "# YOUR NAME (replace this)\n",
        "\n",
        "\n",
        "## Assignment 1: Oh, the data structures we shall know\n",
        "\n",
        "First, don't forget to make a copy (File -> Save copy in drive), otherwise you wont be able to edit. THEN don't forget to add your name, by double clicking the text cell.\n",
        "\n",
        "In this notebook, I'm going to take you on a whirlwind tour of some techniques in python, and some data structures, from lists and dictionaries to arrays and dataframes.\n",
        "\n",
        "Buckle up. You're going to have to do some reading.\n",
        "\n",
        "Given the nature of this class, there's NO WAY we have time to cover all the important data structures, so you'll have to do some self learning. That's ok, you're all computer scientists, so I can trust you to go about this the right way.\n",
        "\n",
        "I provide links to tutorials and documentation. It's good practice to read that stuff and try things out for yourself.\n",
        "\n",
        "Two other notes: In this class, for the most part, I'm NOT going to grade the quality of your code. This assignment is different - I mandate HOW to do some things. But in general I'm not here to grade your code, beyond \"does it get the job done.\" I want you to grasp the concepts. \n",
        "\n",
        "Second, I don't mind if you use resources like stack overflow. Learning to use those resources is also important. I never exactly remember the syntax for a dictionary comprehension with if statements, and so I look it up. It's ok to do the same.\n",
        "\n",
        "It is NOT ok to copy complete homework solutions from the iternet, OR to copy from each other. Each homework assignment, this one included, has a text box with the Union College Honor Code included. You will add your initials at the end of the statement for EVERY homework. \n",
        "\n",
        "If in any doubt - ASK ME."
      ]
    },
    {
      "cell_type": "markdown",
      "metadata": {
        "id": "DerpSG6Xkj7W"
      },
      "source": [
        "### Part 1: Functions with multiple return values\n",
        "\n",
        "Read the tutorial at: https://www.tutorialspoint.com/How-do-we-return-multiple-values-in-Python\n",
        "\n",
        "(a) Write a function called minmax, that takes a list as a single argument, and returns two values as a tuple - the minimum value in the list, and the maximum value in a list. \n",
        "\n",
        "(b) Use the [random.randint(a,b)](https://www.w3schools.com/python/ref_random_randint.asp) function to create a list filled with 100 random integers in the range 0 to 1000 (inclusive).\n",
        "\n",
        "(c) Pass this list to your function from (a), capture the two return values into TWO distinct variables, and print them nicely! (i.e. Print two, distinct, meaningful output messages, not just the tuple returned)."
      ]
    },
    {
      "cell_type": "code",
      "metadata": {
        "id": "gB6m2EU9kj7X"
      },
      "source": [
        "import random\n",
        "\n"
      ],
      "execution_count": null,
      "outputs": []
    },
    {
      "cell_type": "markdown",
      "metadata": {
        "id": "s_hOz77CdCnW"
      },
      "source": [
        "\n",
        "\n",
        "### Part 2: Lists and list comprehension\n",
        "\n",
        "Lists are a major part of all programming languages (except those where they're not. Obviously). List comprehensions are a particularly pythonic way of creating and manipulating lists. \n",
        "\n",
        "I want you to complete the tasks (a) through (g) below USING list comprehension. Yes, you can achieve them by NOT using comprehension - but where's the fun in that, and I'll penalize you for not using list comprehension.\n",
        "\n",
        "First, read the tutorial at: https://www.programiz.com/python-programming/list-comprehension\n",
        "\n",
        "\n",
        "(a) You *could* have solved part1(b) above using a list comprehension. If you did, great. If you didn't, great. Either way do 1(b) (and 1(c)) AGAIN below, generating your list of random numbers using list comprehension. Print the min and the max values in the lsit.\n",
        "\n",
        "For (b) through (e) take the list called startList, below, and use list comprehension to complete the following. You must use list comprehension, and you must start with the original list (startList) each time. You must print the resulting list at the end each time.\n",
        "\n",
        "(b) Create a new list from every other element, starting at index 0. The range function can help you here.\n",
        "\n",
        "(c) Create a new list that contains True for each element in the original list that is even, False if it is odd. Note, those are BOOLEAN values, not strings\n",
        "\n",
        "(d) Create a new list that replaces the values in the original list with 1, 2 or 3 under the following conditions. If the value is less than 3, make the new value 1, if it's greater than or equal to 3. but below 6, make it equal to 2, otherwise make it 3\n",
        "\n",
        "(e) Go through the list and multiply each elements by 5, putting the result in a new list.\n",
        "\n",
        "The following two parts use the variable data, instead of startList. Both are east to do if you remember how SLICING / INDEXING works.\n",
        "\n",
        "(f) Go through the list of lists contained in the variable data defined below, and extract all elements from each list EXCEPT the last one, and put into a new list of lists. \n",
        "\n",
        "e.g. the output should be: [[1, 2], [4, 5], [7, 8], [10, 11]]\n",
        "\n",
        "(g) Go through the list of lists contained in the variable data, and create a single list containing ONLY the last element of each nested list. You must use list comprehension.\n",
        "\n",
        "e.g. the output should be: [3, 6, 9, 12]"
      ]
    },
    {
      "cell_type": "code",
      "metadata": {
        "id": "PEigG0WBkj7V"
      },
      "source": [
        "\n",
        "\n",
        "# Use this list for b-e above\n",
        "startList = [2, 7, 1, 9, 1, 4, 8, 10, 2, 3, 5]\n",
        "\n",
        "\n",
        "\n",
        "# Use this list for g-g above\n",
        "data = [[1,2,3],[4,5,6],[7,8,9],[10,11,12]]\n",
        "\n",
        "\n"
      ],
      "execution_count": null,
      "outputs": []
    },
    {
      "cell_type": "markdown",
      "metadata": {
        "id": "Fm8jW0UFu3Ad"
      },
      "source": [
        "### Part 3: Dictionaries, and dictionary comprehension \n",
        "\n",
        "Just as with lists, you can use dictionary comprehension to create dictionaries. \n",
        "\n",
        "Read the tutorial at: https://www.programiz.com/python-programming/dictionary-comprehension\n",
        "\n",
        "\n",
        "(a) Take the two lists below. The first is a list of words. The second is a list of counts of those words. So for example, the word animal occurs 12 times in some test. Use dictionary comprehension to create a dictionary of counts, where the key is the name, and the value is the count of that thing, Print the resulting dictionary.\n",
        "\n",
        "(b) Now use dictionary comprehension to create a dictionary of counts, but ONLY of words that start with a vowel (a, e, i, o or u). Print the resulting dictionary.\n"
      ]
    },
    {
      "cell_type": "code",
      "metadata": {
        "id": "-sNDnEndvV8b"
      },
      "source": [
        "words = ['animal','insect','dinosaur','fish','plant','shrub','tree','arachnid','iguana']\n",
        "counts = [12,432,7,800,2000,1,14,7,6]\n",
        "\n",
        "\n"
      ],
      "execution_count": null,
      "outputs": []
    },
    {
      "cell_type": "markdown",
      "metadata": {
        "id": "vnR9-S4lkj7X"
      },
      "source": [
        "### Part 4: Numpy\n",
        "\n",
        "Next up - n-dimensional arrays. Numpy is a library that brings n-dimensional arrays to python. Arrays are powerful, because it allows us to simplify operations over data, for instance you'll see that part2(e) can be done much more easily with arrays. However, you need to read the documentation first. Here is the key link:\n",
        "\n",
        "https://numpy.org/devdocs/user/quickstart.html\n",
        "\n",
        "You're REALLY interested in:\n",
        "- creating arrays\n",
        "- reshaping arrays\n",
        "- built in attributes of arrays\n",
        "- array operations\n",
        "- indexing and slicing arrays\n",
        "\n",
        "Then work on the following:\n",
        "\n",
        "(a) convert the startList to a one dimensional array. Print this array, and it's shape.\n",
        "\n",
        "(b) MULTIPLY every value of the array from (a) by 5. The result should be another one dimensional array. \n",
        "\n",
        "(c) convert the startList into a two dimensional array, of 5 rows of 4 columns. Print this array, and print it's shape. Nicely.\n",
        "\n",
        "Remember in class I talked about Machine Learning as a process that uses some features (think of things like size and mass) to predict a class (like the type of coin)? \n",
        "\n",
        "Well, it turns out that the library we're going to use (scikit learn) EXPECTS this data in the form of arrays. It expects the data values for each instance to be a row in an n-dimensional array (so example (c) above could be 5 instances of data). \n",
        "\n",
        "It ALSO expects the data set to be SPLIT into TWO parts. One of them is all the input features, and the second is the class - the thing we're predicting. This will look like the solutions to 2(f) (the input values) and 2(g) (the values we're predicting).\n",
        "\n",
        "For now, we'll imagine that the last feature of each instance is the value we're trying to predict. Therefore:\n",
        "\n",
        "(d) use array slicing on (c) above to produce similar output to 2(f) and 2(g) above. One variable should contain 5 rows of 3 columns (all the data EXCEPT the last column from each row), and one variable that is a 5 by 1 array, containing the values from the last column. "
      ]
    },
    {
      "cell_type": "code",
      "metadata": {
        "id": "pDBgfBcWkj7X"
      },
      "source": [
        "import numpy as np\n",
        "\n",
        "startList = [2,4,6,8,1,3,5,9,22,44,66,88,11,33,55,99,222,444,666,888]\n",
        "\n",
        "\n",
        "\n",
        "\n"
      ],
      "execution_count": null,
      "outputs": []
    },
    {
      "cell_type": "markdown",
      "metadata": {
        "id": "jxCqVrIBjypm"
      },
      "source": [
        "### Part 5: Pandas\n",
        "\n",
        "Ok, that was a lot of build up to this: an introduction to Pandas. [Pandas](https://www.youtube.com/watch?v=ySRMDsJoIzM&ab_channel=TricksyPets) are cute bears, that everyone loves. Pandas is ALSO the most widely used library for data science in Python. I can't introduce you to ALL of pandas, but I can get you to think about what pandas does from a computer science perspective.\n",
        "\n",
        "If you've ever worked with the language R, then you already know about the dataframe. Pandas brings the R dataframe and all the associated methods to Python. \n",
        "\n",
        "You can think of the dataframe as like a spreadsheet - with rows and columns. Look back at Assignment 0, where I use Pandas at the bottom to load a data set. \n",
        "\n",
        "Because we're computer scientists, it also helps to think of dataframes in terms of other data structures.\n",
        "\n",
        "Each COLUMN in a pandas dataframe is a Series. And a Series is effectively a cross between a dictionary, and an n-dimensional array. Hey! That's why he had us do dictionaries and arrays.\n",
        "\n",
        "A dataframe is just a collection of series. \n",
        "\n",
        "There's an introduction to Pandas [you can read](https://www.learndatasci.com/tutorials/python-pandas-tutorial-complete-introduction-for-beginners/). There's more here than you need for this assignment, but I absolutely recommend getting familiar with pandas.\n",
        "\n",
        "Below I load the wine data I used in Assignment 0 using the csv at my github account using pandas, exactly as I did in Assignment 0. I set the attributes - the column headings - as I read in the data. For now, they aren't very meaningful. \n",
        "\n",
        "I then show the head - the first 5 rows of the data.\n",
        "\n",
        "Pandas is an incredibly powerful library, but for now, see if you can:\n",
        "\n",
        "(a) Print the number of rows and columns in the wine data (HINT: Shape can help you here)\n",
        "\n",
        "(b) Print JUST the values from the att3 column. (HINT: Datframes behave like dictionaries in many ways)\n",
        "\n",
        "(c) Print the mean values for each column (and only the mean values) (HINT: Dataframes have methods that work over them)\n",
        "\n",
        "(d) Tell me if there are any MISSING values in this data. Missing values are represented by the special value NaN (which comes from numpy, Not a Number). (HINT: Some methods can be combined, such as summing all the NaN values, to get a count on a column by column basis)\n",
        "\n",
        "(e) We can use pandas to prepare data for machine learning. Just as with 4(d) above, we want to create TWO variables. ONE will be all the features EXCEPT the class. The other will contain JUST the class values.\n",
        "\n",
        "To do this with pandas is easy. \n",
        "\n",
        "There is a method called drop, which allows you to drop a column. Let's say that att8 is the column we will try to predict.\n",
        "\n",
        "So, our input features will be everything except the column att8. The class values will be ONLY the values in the column called att8.\n",
        "\n",
        "Create two variables, called X for the input features, and y for the class values. Their structure (the shape of the data) should be (rows, 11) for the X data, and ( , rows) for the y data, where rows is the number of instances in the data. "
      ]
    },
    {
      "cell_type": "code",
      "metadata": {
        "id": "YEkvwvqumxo5"
      },
      "source": [
        "import pandas as pd\n",
        "\n",
        "# Assign column names\n",
        "labels = ['att0','att1','att2','att3','att4','att5','att6','att7','att8','att9','att10','att11']\n",
        "\n",
        "# Load the data\n",
        "wine_data = pd.read_csv(\"https://raw.githubusercontent.com/nixwebb/CSV_Data/master/winequality-white.csv\",names=labels)\n",
        "\n",
        "# Show the head of the data\n",
        "wine_data.head()"
      ],
      "execution_count": null,
      "outputs": []
    },
    {
      "cell_type": "code",
      "metadata": {
        "id": "u8dqtXCCw3Qj"
      },
      "source": [
        "# Write your solutions (a) through (e) here\n",
        "\n"
      ],
      "execution_count": null,
      "outputs": []
    },
    {
      "cell_type": "markdown",
      "metadata": {
        "id": "5L_dI7XnuHrP"
      },
      "source": [
        "## Honor Code Affirmation ##\n",
        "\n",
        "As a student at Union College, I am part of a community that values intellectual effort, curiosity and discovery. I understand that in order to truly claim my educational and academic achievements, I am obligated to act with academic integrity. Therefore, I affirm that I will carry out my academic endeavors with full academic honesty, and I rely on my fellow students to do the same.\n",
        "\n",
        "**Replace this line with your initials**"
      ]
    }
  ]
}