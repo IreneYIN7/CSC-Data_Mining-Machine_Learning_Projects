{
  "nbformat": 4,
  "nbformat_minor": 0,
  "metadata": {
    "kernelspec": {
      "display_name": "Python 3",
      "language": "python",
      "name": "python3"
    },
    "language_info": {
      "codemirror_mode": {
        "name": "ipython",
        "version": 3
      },
      "file_extension": ".py",
      "mimetype": "text/x-python",
      "name": "python",
      "nbconvert_exporter": "python",
      "pygments_lexer": "ipython3",
      "version": "3.6.8"
    },
    "colab": {
      "provenance": [],
      "toc_visible": true,
      "include_colab_link": true
    }
  },
  "cells": [
    {
      "cell_type": "markdown",
      "metadata": {
        "id": "view-in-github",
        "colab_type": "text"
      },
      "source": [
        "<a href=\"https://colab.research.google.com/github/IreneYIN7/CSC-Data_Mining-Machine_Learning_Projects/blob/master/Irene_CSC_321_Assignment_2_SLR.ipynb\" target=\"_parent\"><img src=\"https://colab.research.google.com/assets/colab-badge.svg\" alt=\"Open In Colab\"/></a>"
      ]
    },
    {
      "cell_type": "markdown",
      "metadata": {
        "id": "jMC3opJ6o1iu"
      },
      "source": [
        "# CSC-321: Data Mining and Machine Learning\n",
        "\n",
        "# Irene Yin\n",
        "\n",
        "## Assignment 2: Simple Linear Regression\n",
        "\n",
        "### Part 1: Implementing SLR\n",
        "\n",
        "Refer to the class slides for an overview of how simple linear regression works. Then implement the following algorithms. I will NOT be grading you on the style elements of your code (although I may give feedback) however you should try to use good programming style, especially with respect to variable names, spacing, printing of results and sensible code choices.\n",
        "\n",
        "The dataset I've given you here is REALLY small. Why? Because I want you to be able to check your math. You should be able to see what the variance, covariance and coefficients should be using a calculator. DO NOT just rely on the computer generated number, and assume it's correct. \n",
        "\n",
        "The data here contains 5 instances, and 2 features. The first element in each sublist is the input feature, X, and the second element is the target value, y.\n",
        "\n",
        "Be careful when coding that you do not overly rely on the fact that there is ONLY one column of input data for X here.\n",
        "\n",
        "(a) First, read the following example page for matplotlib, and create a plot of the points in the data set. Make the data points blue triangles. Make the axis in both directions range from 0 to 6.\n",
        "\n",
        "https://matplotlib.org/stable/tutorials/introductory/pyplot.html#sphx-glr-tutorials-introductory-pyplot-py"
      ]
    },
    {
      "cell_type": "code",
      "metadata": {
        "id": "qgZfYzkwo1iv",
        "colab": {
          "base_uri": "https://localhost:8080/",
          "height": 269
        },
        "outputId": "fa32dedc-2a5c-48e1-e6a8-0997bdbae649"
      },
      "source": [
        "%matplotlib inline\n",
        "\n",
        "import matplotlib.pyplot as plt\n",
        "import numpy as np\n",
        "\n",
        "# Use this dataset for all examples\n",
        "dataset = [[1,1],[2,3],[4,3],[3,2],[5,5]]\n",
        "array = np.array(dataset)\n",
        "Xvalue = array[:,0]\n",
        "Yvalue = array[:,1]\n",
        "plt.plot(Xvalue,Yvalue,'b^')\n",
        "plt.axis([0,6,0,6])\n",
        "plt.show()\n"
      ],
      "execution_count": null,
      "outputs": [
        {
          "output_type": "display_data",
          "data": {
            "image/png": "[encoded data removed]",
            "text/plain": [
              "<Figure size 432x288 with 1 Axes>"
            ]
          },
          "metadata": {
            "tags": [],
            "needs_background": "light"
          }
        }
      ]
    },
    {
      "cell_type": "markdown",
      "metadata": {
        "id": "UlapUIEQo1ix"
      },
      "source": [
        "(b) Create a function that returns the average (the mean) for any list of values.\n",
        "\n",
        "(c) Create a function that computes the total variance of a list of values. NOTE - NOT the average variance as discussed in class, the total. That is, for each value of X, subtract the mean and square the result. Sum the resulting values, and return. The function takes two arguments, a list of values and the mean of that list of values.\n",
        "\n",
        "(d) Create a function that computes the covariance between two lists of numbers. Given two lists (X and y), and two means for those lists, for each value in X, subtract the mean of X, and then multiply by the corresponding value of (y minus the mean of y). Sum the resulting values and return. \n",
        "\n",
        "(e) Using your functions above, write a function that given two lists, one of X values and one of y values, computes the two coefficients, b1 and b0. Remember, b1 is computed by dividing the covariance of X and y by the variance of X. b0 is computed by taking the mean of y, and subtracting b1 multiplied by the mean of X from it. Return the two coefficients, b0 and b1, in that order, in a single list. \n",
        "\n",
        "(f) Test your coefficients function, with the dataset given. That means slice the data above into a list of X values, and a list of y values. Pass those lists to the functions described above to generate the coefficients. Print both of the resulting coefficients nicely."
      ]
    },
    {
      "cell_type": "code",
      "metadata": {
        "id": "XY-4NqIZo1iy",
        "colab": {
          "base_uri": "https://localhost:8080/"
        },
        "outputId": "09950827-7d0f-406f-ff84-bad07f0c974d"
      },
      "source": [
        "import numpy as np\n",
        "# Write your functions b thru f here\n",
        "#b)\n",
        "def getMean(inputList):\n",
        "  # return: the average (the mean) for any list of values(numbers).\n",
        "  \n",
        "  return np.mean(inputList)\n",
        "\n",
        "#c)\n",
        "def getVariance(inputList):\n",
        "  # return: the total variance of a list of values.\n",
        "  meanValue = getMean(inputList)\n",
        "  variance = 0\n",
        "  for num in inputList:\n",
        "    variance += (num-meanValue)**2\n",
        "  return variance\n",
        "\n",
        "#d)\n",
        "def getCovariance(inputListX, inputListY, meanX, meanY):\n",
        "  # return: covariance between two lists of numbers.\n",
        "  covariance = 0\n",
        "  for i in range(len(inputListX)):\n",
        "    covariance += (inputListX[i]-meanX)*(inputListY[i] - meanY)\n",
        "  return covariance\n",
        "\n",
        "#e)\n",
        "def getCoefficient(inputListX, inputListY):\n",
        "  # return: coefficient b0 and b1 in a single list.\n",
        "  meanOfX = getMean(inputListX)\n",
        "  meanOfY = getMean(inputListY)\n",
        "  b1 = getCovariance(inputListX,inputListY,meanOfX,meanOfY)/getVariance(inputListX)\n",
        "  b0 = getMean(inputListY)-b1*meanOfX\n",
        "  return [b0,b1]\n",
        "\n",
        "#f)\n",
        "coefficient = getCoefficient(Xvalue, Yvalue)\n",
        "print('b0 for dataset', coefficient[0])\n",
        "print('b1 for dataset', coefficient[1])\n"
      ],
      "execution_count": null,
      "outputs": [
        {
          "output_type": "stream",
          "text": [
            "[1 2 4 3 5]\n",
            "[1 3 3 2 5]\n",
            "b0 for dataset 0.39999999999999947\n",
            "b1 for dataset 0.8\n"
          ],
          "name": "stdout"
        }
      ]
    },
    {
      "cell_type": "markdown",
      "metadata": {
        "id": "RRc3O_BGs6MU"
      },
      "source": [
        "We're going to use a convention here - capital X is the input feature(s), lower case y is the thing to predict. \n",
        "\n",
        "We're going to create four lists. Those will be called:\n",
        "1. X_train\n",
        "2. y_train\n",
        "\n",
        "1 and 2 comprise the data we'll use to train the model; \n",
        "\n",
        "3. X_test\n",
        "4. y_test\n",
        "\n",
        "X_test is the data we'll apply the model to, to predict the y values. \n",
        "\n",
        "y_test are the REAL y values for the X_test data and we can match those against the predicted y values to measure performance.\n",
        "\n",
        "In this assignment we're going to use the exactly the same data here for both training and testing. That is, there will be 5 instances for training, and then we'll predict y values for those same 5 instances. Does this seem like a good idea? We'll talk about it in class later. \n",
        "\n",
        "(g) Now you have sufficient functionality to write a function to make predictions using simple linear regression. Create a function that takes THREE lists as arguments: two for training (X_train, y_train) and one for testing (X_test).\n",
        "\n",
        "Here's the simple linear regression algorithm. Make this into a function.\n",
        "\n",
        "Using the functions you wrote earlier, we're going to create our coefficients from the training data. We're going to create a new list, to hold our predictions. Then for each instance in the X_test data, we're going to read the input value, and apply the formula \n",
        "\n",
        "> **y = b0 + b1 * x(i)**\n",
        "\n",
        "For each entry in the X_test data, we're going to have a predicted y value, which we'll append to our list of predictions. At the end, we're going to return our list of predictions.\n",
        "\n",
        "(h) Call your simple linear regression function, with the dataset above split appropriately into X_train, y_train, X_test and y_test. In this example, X_train and X_test will be the same, and y_train and y_test will be the same. Print the predicted output and the real output, nicely.\n",
        "\n",
        "(i) Recreate the plot from (a) above, plotting the points the same as before, by plotting your X_test values against your y_test values.\n",
        "But this time **ALSO** plot a line (X_test against predicted y) in red, that shows how well the slr algorithm is modeling the output. "
      ]
    },
    {
      "cell_type": "code",
      "metadata": {
        "id": "mJV637qvo1i1",
        "colab": {
          "base_uri": "https://localhost:8080/",
          "height": 323
        },
        "outputId": "36f39649-8ffe-4b00-ce4e-dd147c4f27a0"
      },
      "source": [
        "\n",
        "# Create your four datasets here\n",
        "dataset = [[1,1],[2,3],[4,3],[3,2],[5,5]]\n",
        "X_train = array[:,0]\n",
        "y_train = array[:,1]\n",
        "X_test = array[:,0]\n",
        "y_test = array[:,1]\n",
        "\n",
        "# Write the function for simple linear regression here\n",
        "def slr(Xtrain,ytrain,Xtest):\n",
        "  # return: a list that hold the predictions. \n",
        "  coef = getCoefficient(Xtrain,ytrain)\n",
        "  b0 = coef[0]\n",
        "  b1 = coef[1]\n",
        "  prediction = []\n",
        "  for num in Xtest:\n",
        "    prediction.append(b0+b1*num)\n",
        "  return prediction\n",
        "\n",
        "\n",
        "# Call the function below\n",
        "y_predict = slr(X_train,y_train,X_test)\n",
        "print(\"The prediction y value is: \", y_predict)\n",
        "print(\"The real output is: \", y_test)\n",
        "\n",
        "\n",
        "# Plot the results\n",
        "plt.plot(X_test,y_test,'b^')\n",
        "plt.plot(X_test,y_predict,'r')\n",
        "plt.axis([0,6,0,6])\n",
        "plt.show()\n",
        "\n"
      ],
      "execution_count": null,
      "outputs": [
        {
          "output_type": "stream",
          "text": [
            "The prediction y value is:  [1.1999999999999995, 1.9999999999999996, 3.5999999999999996, 2.8, 4.3999999999999995]\n",
            "The real output is:  [1 3 3 2 5]\n"
          ],
          "name": "stdout"
        },
        {
          "output_type": "display_data",
          "data": {
            "image/png": "[encoded data removed]",
            "text/plain": [
              "<Figure size 432x288 with 1 Axes>"
            ]
          },
          "metadata": {
            "tags": [],
            "needs_background": "light"
          }
        }
      ]
    },
    {
      "cell_type": "markdown",
      "metadata": {
        "id": "ckIJVy4po1i4"
      },
      "source": [
        "### Part 2: Implementing zeroR\n",
        "\n",
        "In class we learned about the zeroR algorithm. For regression, that means that we will always predict the mean value of the y_train variable - the target. \n",
        "\n",
        "(a) Write the function zeroRR (for regression) below. This function will take two arguments, y_train and X_test data. We **could** also pass it X_train, just to be consistent with our slr function above (which is what scikit learn does), but we know that zeroR NEVER looks at the X_train data, so we wont bother.\n",
        "\n",
        "Your zeroRR function will compute the mean from the y_train values. For prediction, it will assign this mean to every X_test instance, and append this prediction to a list. Return the list of predictions. \n",
        "\n",
        "(b) Test your zeroRR function, with the datasets as defined above. Print the input and the predicted output. Nicely.\n",
        "\n",
        "(c) Recreate the plot from (i) in Part 1, above. Plot the points, the predicted output y from the simple linear regression algorithm, and now add the predicted output y from the zeroRR algorithm as another line, this time in green."
      ]
    },
    {
      "cell_type": "code",
      "metadata": {
        "id": "if9K1_uro1i4",
        "colab": {
          "base_uri": "https://localhost:8080/",
          "height": 303
        },
        "outputId": "2e02887a-6d64-4e6f-9315-65b220425b83"
      },
      "source": [
        "# Write the function for zeroRR here\n",
        "def zeroRR(ytrain, Xtest):\n",
        "  # return: compute the mean from the ytrain values and return the list of predictions.\n",
        "  meanOfytrain = np.mean(ytrain)\n",
        "  prediction = []\n",
        "  for num in Xtest:\n",
        "    prediction.append(meanOfytrain)\n",
        "  return prediction\n",
        "\n",
        "# Call the function zeroRR below\n",
        "ZeroR_predict = zeroRR(y_train, X_test)\n",
        "print(\"The input data is: \", X_test)\n",
        "print(\"The predicted output for zeroR is: \", ZeroR_predict)\n",
        "\n",
        "\n",
        "# Plot the results\n",
        "plt.plot(X_test,y_test,'b^')\n",
        "plt.plot(X_test,y_predict,'r')\n",
        "plt.plot(X_test,ZeroR_predict, 'g')\n",
        "plt.axis([0,6,0,6])\n",
        "plt.show()\n",
        "\n"
      ],
      "execution_count": null,
      "outputs": [
        {
          "output_type": "stream",
          "text": [
            "The input data is:  [1 2 4 3 5]\n",
            "The predicted output for zeroR is:  [2.8, 2.8, 2.8, 2.8, 2.8]\n"
          ],
          "name": "stdout"
        },
        {
          "output_type": "display_data",
          "data": {
            "image/png": "[encoded data removed]",
            "text/plain": [
              "<Figure size 432x288 with 1 Axes>"
            ]
          },
          "metadata": {
            "tags": [],
            "needs_background": "light"
          }
        }
      ]
    },
    {
      "cell_type": "markdown",
      "metadata": {
        "id": "gHHP8duJo1i6"
      },
      "source": [
        "### Part 3: Evaluating output\n",
        "\n",
        "We want to be able to evaluate the output of our algorithms. We will implement the RMSE algorithm discussed in class for evaluating performance. This function will take two lists of values - actual y values and predicted y values.\n",
        "\n",
        "(a) Write a function that calculates RMSE. Start with an error of 0.0, then go through each y value in the actual list, and calculates the prediction error by subtracting the actual from the predicted value, and squares the error. Those squared errors are summed for all instances and then the average squared error is calculated, dividng the sum of the square errors by the number of predictions. Return the square root of that average error."
      ]
    },
    {
      "cell_type": "code",
      "metadata": {
        "id": "mHASSRMVo1i6"
      },
      "source": [
        "# Write the function rmse(actual,predicted) below\n",
        "def rmse(actual, predicted):\n",
        "  # return: prediction error.\n",
        "  predictionError = 0.0\n",
        "  for i in range(len(actual)):\n",
        "    predictionError += (actual[i] - predicted[i])**2\n",
        "  predictionError_avg = predictionError/len(actual)\n",
        "  predictionError_avg = predictionError_avg**0.5\n",
        "  return predictionError_avg\n",
        "\n"
      ],
      "execution_count": null,
      "outputs": []
    },
    {
      "cell_type": "markdown",
      "metadata": {
        "id": "NISST-Ovo1i8"
      },
      "source": [
        "### Part 4: Putting it all together\n",
        "\n",
        "Given the dataset below:\n",
        "- split into four sets, X_train, y_train, X_test and t_test, where X_train and X_test contain the same values, and y_test and y_train also. \n",
        "\n",
        "- Pass these appropriate arguments to both your simple linear regression code, and your zeroRR code, generating list of predictions for each.\n",
        "\n",
        "- Evaluate these predictions against the real values (y_test)\n",
        "\n",
        "- Print the results nicely\n",
        "\n",
        "- FINALLY, edit the text box after this code, telling me which algorithm works better, simple linear regression or zeroRR, and why you believe that"
      ]
    },
    {
      "cell_type": "code",
      "metadata": {
        "id": "zfz3-w8Oo1i9",
        "colab": {
          "base_uri": "https://localhost:8080/"
        },
        "outputId": "2c643202-18d4-447b-b0df-a7d91d821ae4"
      },
      "source": [
        "# Evaluate the two algorithms, using RMSE\n",
        "# And the dataset below\n",
        "\n",
        "dataset = [[1,1],[2,3],[4,3],[3,2],[5,5]]\n",
        "X_train = array[:,0]\n",
        "y_train = array[:,1]\n",
        "X_test = array[:,0]\n",
        "y_test = array[:,1]\n",
        "\n",
        "Predict_y = slr(X_train,y_train,X_test)\n",
        "print(Predict_y)\n",
        "ZeroR_predict = zeroRR(y_train, X_test)\n",
        "slr_rmse = rmse(y_test, Predict_y)\n",
        "ZeroR_rmse = rmse(y_test, ZeroR_predict)\n",
        "print(\"The predicted y value is: \", Predict_y)\n",
        "print(\"The RMSE for SLR is : %.3f\" % slr_rmse)\n",
        "print(\"The predicted value for ZeroR is: \", ZeroR_predict)\n",
        "print(\"The RMSE for ZeroR is: %.3f\" % ZeroR_rmse)\n"
      ],
      "execution_count": null,
      "outputs": [
        {
          "output_type": "stream",
          "text": [
            "[1 2 4 3 5]\n",
            "[1 3 3 2 5]\n",
            "[1.1999999999999995, 1.9999999999999996, 3.5999999999999996, 2.8, 4.3999999999999995]\n",
            "The predicted y value is:  [1.1999999999999995, 1.9999999999999996, 3.5999999999999996, 2.8, 4.3999999999999995]\n",
            "The RMSE for SLR is : 0.693\n",
            "The predicted value for ZeroR is:  [2.8, 2.8, 2.8, 2.8, 2.8]\n",
            "The RMSE for ZeroR is: 1.327\n"
          ],
          "name": "stdout"
        }
      ]
    },
    {
      "cell_type": "markdown",
      "metadata": {
        "id": "rtlvsMsJCjPZ"
      },
      "source": [
        "#### Interpretation of results\n",
        "Simple Linear Regression works better since its RMSE value is 0.693 which is smaller than the RMSE value of ZeroRR which is 1.327."
      ]
    },
    {
      "cell_type": "markdown",
      "metadata": {
        "id": "k_Mw8Eso_YFM"
      },
      "source": [
        "### Part 5: Introduction to scikit-learn\n",
        "\n",
        "One of the most popular open-source python machine learning libraries is scikit-learn.\n",
        "\n",
        "As we go through this class I'll introduce you to some of the functionality. Below I use both the linear regression and zeroR functionality, as well as using a built-in evaluation metric.\n",
        "\n",
        "Recreate the four lists X_train, y_train, X_test and y_test as you would have for the previous examples, using the same data for both training and testing. Then the following code should run. \n",
        "\n",
        "Note that I have to do some reshaping, to make them into 2D arrays from the 1D list that python uses. This is just a requirement of scikit-learn, and you can see how I do it below.\n",
        "\n",
        "Also note how I use variable names. You will find that it is INCREDIBLY easy to confuse yourself with the names of models and variables. Try early on to develop a consistent approach to naming. It will help.\n",
        "\n",
        "You can use the final output of this code to check the results of your code, above. The RMSE values should be the same (possibly a 0.01 difference).\n",
        "\n",
        "You can find out more in general at: https://scikit-learn.org/stable/index.html\n"
      ]
    },
    {
      "cell_type": "code",
      "metadata": {
        "id": "Y2Mmn-Xs56DP",
        "colab": {
          "base_uri": "https://localhost:8080/"
        },
        "outputId": "1c88ee49-66bd-4b2d-b265-4d9cc91d70d6"
      },
      "source": [
        "# Import required libraries, two classifiers and the built in MSE metric\n",
        "# See the following for details:\n",
        "#\n",
        "# https://scikit-learn.org/stable/modules/generated/sklearn.dummy.DummyRegressor.html\n",
        "# https://scikit-learn.org/stable/modules/generated/sklearn.linear_model.LinearRegression.html\n",
        "# https://scikit-learn.org/stable/modules/generated/sklearn.metrics.mean_squared_error.html\n",
        "\n",
        "import math\n",
        "import numpy as np\n",
        "from sklearn.dummy import DummyRegressor\n",
        "from sklearn.linear_model import LinearRegression\n",
        "from sklearn.metrics import mean_squared_error\n",
        "\n",
        "\n",
        "dataset = [[1,2,1],[2,2,3],[4,3,3],[3,2,2],[5,4,5],[5,2,6],[4,5,4],[7,5,5]]\n",
        "\n",
        "# **************************************************************************\n",
        "# CREATE YOUR X_train,y_train, X_Test,y_test datasets here\n",
        "\n",
        "\n",
        "X_train = []\n",
        "for i in range(len(dataset)):\n",
        "  X_train.append(dataset[i][:len(dataset[i])-1])\n",
        "\n",
        "y_train = []\n",
        "for i in range(len(dataset)):\n",
        "  y_train.append(dataset[i][-1])\n",
        "\n",
        "X_test = X_train\n",
        "y_test = y_train\n",
        "\n",
        "print(X_test)\n",
        "\n",
        "# **************************************************************************\n",
        "# I make those into numpy arrays, and reshape them\n",
        "\n",
        "# Reshaping here means I'm telling numpy\n",
        "# I KNOW the shape of one of the dimensions (it's 1)\n",
        "# The -1 tells numpy to figure it out, using the length\n",
        "# of the vector (-1 basically means unknown)\n",
        "\n",
        "# Because I know that there are FIVE instances,\n",
        "# I COULD have written\n",
        "# .reshape(5,1) \n",
        "# for the X_train / X_test\n",
        "# But as I KNOW it's a SOMETHING by 1\n",
        "# if I do reshape(-1,1), then this same code will work\n",
        "# with a 100 instances just as it will work with 5 instances.\n",
        "\n",
        "X_train = np.array(X_train).reshape(-1, 2)\n",
        "y_train = np.array(y_train)\n",
        "\n",
        "X_test = np.array(X_test).reshape(-1, 2)\n",
        "y_test = np.array(y_test)\n",
        "print(y_test)\n",
        "print(X_test)\n",
        "\n",
        "\n",
        "# Instantiate an object of the linear regression class\n",
        "lr = LinearRegression()\n",
        "\n",
        "# Fit the linear regression model using the features and the class\n",
        "# In scikit-learn, all models have a fit method\n",
        "# THIS is machine learning. Tadaa.\n",
        "\n",
        "reg = lr.fit(X_train,y_train)\n",
        "\n",
        "\n",
        "# Exploring some built in concepts of the trained model\n",
        "# Examining b0 and b1 coefficients\n",
        "\n",
        "print('INTERCEPT (b0):',reg.intercept_ )\n",
        "print('COEFFICIENT (b1):',reg.coef_ )\n",
        "print()\n",
        "\n",
        "\n",
        "# The fit() method produces a model (that I stored in the variable 'reg')\n",
        "# We can now apply that model to new data using the predict method\n",
        "# So here I apply it to the X values (the input)\n",
        "# in order to PREDICT output values (y).\n",
        "\n",
        "lr_predY = reg.predict(X_test)\n",
        "\n",
        "\n",
        "# Now I'm to repeat this, using zeroR. In scikit this is called the\n",
        "# dummy classifier\n",
        "\n",
        "zr = DummyRegressor()\n",
        "zeroR = zr.fit(X_train, y_train)\n",
        "zr_predY = zeroR.predict(X_test)\n",
        "\n",
        "\n",
        "# And I'm going to evaluate the results\n",
        "# scikit has a built in metric for MSE. To get to RMSE \n",
        "# I simply take the square root of MSE.\n",
        "\n",
        "slr_rmse = math.sqrt(mean_squared_error(y_test,lr_predY))\n",
        "zr_rmse = math.sqrt(mean_squared_error(y_test,zr_predY))\n",
        "\n",
        "print('RMSE score for linear regression: {:.2f}'.format(slr_rmse))\n",
        "print('RMSE score for zeroR: {:.2f}'.format(zr_rmse))\n",
        "\n"
      ],
      "execution_count": null,
      "outputs": [
        {
          "output_type": "stream",
          "text": [
            "[[1, 2], [2, 2], [4, 3], [3, 2], [5, 4], [5, 2], [4, 5], [7, 5]]\n",
            "[1 3 3 2 5 6 4 5]\n",
            "[[1 2]\n",
            " [2 2]\n",
            " [4 3]\n",
            " [3 2]\n",
            " [5 4]\n",
            " [5 2]\n",
            " [4 5]\n",
            " [7 5]]\n",
            "INTERCEPT (b0): 1.0259740259740249\n",
            "COEFFICIENT (b1): [ 0.86796537 -0.24458874]\n",
            "\n",
            "RMSE score for linear regression: 0.83\n",
            "RMSE score for zeroR: 1.58\n"
          ],
          "name": "stdout"
        }
      ]
    }
  ]
}